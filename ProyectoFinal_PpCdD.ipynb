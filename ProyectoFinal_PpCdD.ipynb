{
  "nbformat": 4,
  "nbformat_minor": 0,
  "metadata": {
    "colab": {
      "provenance": [],
      "authorship_tag": "ABX9TyMIbR15fyVwzNMp9nsr4jrS",
      "include_colab_link": true
    },
    "kernelspec": {
      "name": "python3",
      "display_name": "Python 3"
    },
    "language_info": {
      "name": "python"
    }
  },
  "cells": [
    {
      "cell_type": "markdown",
      "metadata": {
        "id": "view-in-github",
        "colab_type": "text"
      },
      "source": [
        "<a href=\"https://colab.research.google.com/github/diego-gutierrez10/ProyectoFinal/blob/main/ProyectoFinal_PpCdD.ipynb\" target=\"_parent\"><img src=\"https://colab.research.google.com/assets/colab-badge.svg\" alt=\"Open In Colab\"/></a>"
      ]
    },
    {
      "cell_type": "markdown",
      "source": [
        "# **Proyecto Final - Programación para Ciencia de Datos**\n",
        "\n",
        "## Análisis del mercado laboral de AI & ML\n"
      ],
      "metadata": {
        "id": "DHE_JTO-NPSU"
      }
    },
    {
      "cell_type": "markdown",
      "source": [
        "## **¿De qué trata este proyecto?**"
      ],
      "metadata": {
        "id": "sCRYtPlRSKPY"
      }
    },
    {
      "cell_type": "markdown",
      "source": [
        "### Introducción"
      ],
      "metadata": {
        "id": "Tzsgf2DmO_1e"
      }
    },
    {
      "cell_type": "markdown",
      "source": [
        "El boom de la Inteligencia Artificial y el Aprendizaje Automático en los últimos años ha incrementado drásticamente la demanda de profesionales en estás áreas, sobre todo en los Estados Unidos (2023). Como prueba un estudio realizado por Gran View Research afirma que:\n",
        "\n",
        "\n",
        "\n",
        "> *El mercado de la Inteligencia Artificial fue de 196.63 billones de dólares en 2023, y se espera que crezca un 36.6% anualmente 2024 to 2030*\n",
        "\n",
        "Artificial Intelligence Market Size, share & Trends Analysis Report by solution, by technology (Deep Learning, Machine Learning, NLP, Machine Vision, Generative AI), by function, by end-use, by region, and segment Forecasts, 2024 - 2030. (n.d.). https://www.grandviewresearch.com/industry-analysis/artificial-intelligence-ai-market#\n",
        "\n",
        "\n",
        "\n"
      ],
      "metadata": {
        "id": "LrTH13FfQfpU"
      }
    },
    {
      "cell_type": "markdown",
      "source": [
        "### Acerca del DataFrame"
      ],
      "metadata": {
        "id": "6bAzZk3zmclk"
      }
    },
    {
      "cell_type": "markdown",
      "source": [
        "**A continuación la descripción provista por los autores:**\n",
        "\n",
        "\n",
        "\n",
        "---\n",
        "\n",
        "\n",
        "\n",
        "The salaries are from ai-jobs. Ai-jobs collects salary information anonymously from professionals all over the world in the AI/ML and Big Data space and makes it publicly available for anyone to use, share and play around with. The data is being updated regularly with new data coming in, usually on a weekly basis.\n",
        "The primary goal is to have data that can provide better guidance in regards to what's being paid globally. So newbies, experienced pros, hiring managers, recruiters and also startup founders or people wanting to make a career switch can make better informed decisions.\n",
        "\n",
        "The dataset contains one table structured as follow:\n",
        "\n",
        "* **work_year**: The year the salary was paid.\n",
        "* **experience_level**: The experience level in the job during the year with the following possible values:\n",
        "  * EN: Entry-level / Junior\n",
        "  * MI: Mid-level / Intermediate\n",
        "  * SE: Senior-level / Expert\n",
        "  * EX: Executive-level / Director\n",
        "* **employment_type**: The type of employement for the role:\n",
        "  * PT: Part-time\n",
        "  * FT: Full-time\n",
        "  * CT: Contract\n",
        "  * FL: Freelance\n",
        "* **job_title**: The role worked in during the year.\n",
        "* **salary**: The total gross salary amount paid.\n",
        "* **salary_currency**: The currency of the salary paid as an ISO 4217 currency code.\n",
        "* **salary_in_usd**: The salary in USD (FX rate divided by avg. USD rate for the respective year via fxdata.foorilla.com).\n",
        "* **employee_residence**: Employee's primary country of residence in during the work year as an ISO 3166 country code.\n",
        "* **remote_ratio**: The overall amount of work done remotely, possible values are as follows:\n",
        "  * 0: No remote work (less than 20%)\n",
        "  * 50: Partially remote\n",
        "  * 100: Fully remote (more than 80%)\n",
        "* **company_location**: The country of the employer's main office or contracting branch as an ISO 3166 country code.\n",
        "* **company_size**: The average number of people that worked for the company during the year:\n",
        "  * S: less than 50 employees (small)\n",
        "  * M: 50 to 250 employees (medium)\n",
        "  * L: more than 250 employees (large)\n",
        "\n"
      ],
      "metadata": {
        "id": "v4diKAgXmhJe"
      }
    },
    {
      "cell_type": "markdown",
      "source": [
        "### Preguntas a responder"
      ],
      "metadata": {
        "id": "s3K5CBNqQhpt"
      }
    },
    {
      "cell_type": "markdown",
      "source": [
        "1.  **¿Cómo ha cambiado el panorama del mercado laboral de la Inteligencia Artificial y el Aprendizaje Automático en los últimos años?**\n",
        "\n",
        "2.  **¿Cual es el salario medio según el nivel de experiencia que requiere cada trabajo?**\n",
        "\n",
        "3.  **¿Cual es el salario medio de este sector en mi país?**\n",
        "\n",
        "4.  **¿Influye el tipo de trabajo (remoto o no) en el salario?**\n",
        "\n"
      ],
      "metadata": {
        "id": "aN6_hLtnReLW"
      }
    },
    {
      "cell_type": "markdown",
      "source": [
        "## **Código**"
      ],
      "metadata": {
        "id": "1r84nom5SNdI"
      }
    },
    {
      "cell_type": "markdown",
      "source": [
        "### Importación y EDA (Exploratory Data Analysis)"
      ],
      "metadata": {
        "id": "6R-JEdmh2CSC"
      }
    },
    {
      "cell_type": "markdown",
      "source": [
        "Para empezar a trabjar importamos las librerías necesarias para la realización del programa, y leemos el DataFrame que utlizaremos mediante el método \"read_csv\" de la librería Pandas"
      ],
      "metadata": {
        "id": "KN1De1_VSX51"
      }
    },
    {
      "cell_type": "code",
      "source": [
        "# Importación de las librerías\n",
        "\n",
        "import pandas as pd\n",
        "import seaborn as sns\n",
        "from matplotlib import pyplot as plt\n",
        "import random\n",
        "\n",
        "salaries_df = pd.read_csv('/content/salaries.csv')"
      ],
      "metadata": {
        "id": "h7QczkoMSWn1"
      },
      "execution_count": null,
      "outputs": []
    },
    {
      "cell_type": "markdown",
      "source": [
        "Imprimimos el tamaño del Dataframe y las primeras 10 columnas del mismo, para darnos una idea de como se ve distribuida la información"
      ],
      "metadata": {
        "id": "eVTiE20twwka"
      }
    },
    {
      "cell_type": "code",
      "source": [
        "#Impresión del tamaño mediante el método \"shape\" que nos devuelve un arreglo de 2 elementos con los renglones y las columnas respectivamente\n",
        "print(\"El Dataframe \\\"salaries_df\\\" tiene una longitud de\", salaries_df.shape[0], \"renglones por\", salaries_df.shape[1], \"columnas\\n\")\n",
        "\n",
        "print(\"Las primeras 10 columnas del Dataframe son:\\n\")\n",
        "\n",
        "#Impresión de las 10 primeras columnas del dataframe mediante el método \"head\"\n",
        "salaries_df.head(10)"
      ],
      "metadata": {
        "colab": {
          "base_uri": "https://localhost:8080/",
          "height": 628
        },
        "id": "sH34jXZunUjB",
        "outputId": "787596e6-b50e-4c9a-a61d-f5636c031e25"
      },
      "execution_count": null,
      "outputs": [
        {
          "output_type": "stream",
          "name": "stdout",
          "text": [
            "El Dataframe \"salaries_df\" tiene una longitud de 18056 renglones por 11 columnas\n",
            "\n",
            "Las primeras 10 columnas del Dataframe son:\n",
            "\n"
          ]
        },
        {
          "output_type": "execute_result",
          "data": {
            "text/plain": [
              "   work_year experience_level employment_type           job_title  salary  \\\n",
              "0       2024               MI              FT  Analytics Engineer   77500   \n",
              "1       2024               SE              FT        AI Developer  252000   \n",
              "2       2024               SE              FT        AI Developer  168000   \n",
              "3       2024               MI              FT      Data Scientist  199500   \n",
              "4       2024               MI              FT      Data Scientist   86700   \n",
              "5       2024               SE              FT   Research Engineer  180000   \n",
              "6       2024               SE              FT   Research Engineer  160000   \n",
              "7       2024               SE              FT  Research Scientist  238600   \n",
              "8       2024               SE              FT  Research Scientist  112000   \n",
              "9       2024               SE              FT      Data Scientist  304000   \n",
              "\n",
              "  salary_currency  salary_in_usd employee_residence  remote_ratio  \\\n",
              "0             CAD          59615                 CA           100   \n",
              "1             USD         252000                 US             0   \n",
              "2             USD         168000                 US             0   \n",
              "3             USD         199500                 US           100   \n",
              "4             USD          86700                 US           100   \n",
              "5             USD         180000                 US             0   \n",
              "6             USD         160000                 US             0   \n",
              "7             USD         238600                 US             0   \n",
              "8             USD         112000                 US             0   \n",
              "9             USD         304000                 US             0   \n",
              "\n",
              "  company_location company_size  \n",
              "0               CA            S  \n",
              "1               US            M  \n",
              "2               US            M  \n",
              "3               US            M  \n",
              "4               US            M  \n",
              "5               US            S  \n",
              "6               US            S  \n",
              "7               US            M  \n",
              "8               US            M  \n",
              "9               US            M  "
            ],
            "text/html": [
              "\n",
              "  <div id=\"df-ec2338ab-a5b4-42c4-bc00-ca65e2a25851\" class=\"colab-df-container\">\n",
              "    <div>\n",
              "<style scoped>\n",
              "    .dataframe tbody tr th:only-of-type {\n",
              "        vertical-align: middle;\n",
              "    }\n",
              "\n",
              "    .dataframe tbody tr th {\n",
              "        vertical-align: top;\n",
              "    }\n",
              "\n",
              "    .dataframe thead th {\n",
              "        text-align: right;\n",
              "    }\n",
              "</style>\n",
              "<table border=\"1\" class=\"dataframe\">\n",
              "  <thead>\n",
              "    <tr style=\"text-align: right;\">\n",
              "      <th></th>\n",
              "      <th>work_year</th>\n",
              "      <th>experience_level</th>\n",
              "      <th>employment_type</th>\n",
              "      <th>job_title</th>\n",
              "      <th>salary</th>\n",
              "      <th>salary_currency</th>\n",
              "      <th>salary_in_usd</th>\n",
              "      <th>employee_residence</th>\n",
              "      <th>remote_ratio</th>\n",
              "      <th>company_location</th>\n",
              "      <th>company_size</th>\n",
              "    </tr>\n",
              "  </thead>\n",
              "  <tbody>\n",
              "    <tr>\n",
              "      <th>0</th>\n",
              "      <td>2024</td>\n",
              "      <td>MI</td>\n",
              "      <td>FT</td>\n",
              "      <td>Analytics Engineer</td>\n",
              "      <td>77500</td>\n",
              "      <td>CAD</td>\n",
              "      <td>59615</td>\n",
              "      <td>CA</td>\n",
              "      <td>100</td>\n",
              "      <td>CA</td>\n",
              "      <td>S</td>\n",
              "    </tr>\n",
              "    <tr>\n",
              "      <th>1</th>\n",
              "      <td>2024</td>\n",
              "      <td>SE</td>\n",
              "      <td>FT</td>\n",
              "      <td>AI Developer</td>\n",
              "      <td>252000</td>\n",
              "      <td>USD</td>\n",
              "      <td>252000</td>\n",
              "      <td>US</td>\n",
              "      <td>0</td>\n",
              "      <td>US</td>\n",
              "      <td>M</td>\n",
              "    </tr>\n",
              "    <tr>\n",
              "      <th>2</th>\n",
              "      <td>2024</td>\n",
              "      <td>SE</td>\n",
              "      <td>FT</td>\n",
              "      <td>AI Developer</td>\n",
              "      <td>168000</td>\n",
              "      <td>USD</td>\n",
              "      <td>168000</td>\n",
              "      <td>US</td>\n",
              "      <td>0</td>\n",
              "      <td>US</td>\n",
              "      <td>M</td>\n",
              "    </tr>\n",
              "    <tr>\n",
              "      <th>3</th>\n",
              "      <td>2024</td>\n",
              "      <td>MI</td>\n",
              "      <td>FT</td>\n",
              "      <td>Data Scientist</td>\n",
              "      <td>199500</td>\n",
              "      <td>USD</td>\n",
              "      <td>199500</td>\n",
              "      <td>US</td>\n",
              "      <td>100</td>\n",
              "      <td>US</td>\n",
              "      <td>M</td>\n",
              "    </tr>\n",
              "    <tr>\n",
              "      <th>4</th>\n",
              "      <td>2024</td>\n",
              "      <td>MI</td>\n",
              "      <td>FT</td>\n",
              "      <td>Data Scientist</td>\n",
              "      <td>86700</td>\n",
              "      <td>USD</td>\n",
              "      <td>86700</td>\n",
              "      <td>US</td>\n",
              "      <td>100</td>\n",
              "      <td>US</td>\n",
              "      <td>M</td>\n",
              "    </tr>\n",
              "    <tr>\n",
              "      <th>5</th>\n",
              "      <td>2024</td>\n",
              "      <td>SE</td>\n",
              "      <td>FT</td>\n",
              "      <td>Research Engineer</td>\n",
              "      <td>180000</td>\n",
              "      <td>USD</td>\n",
              "      <td>180000</td>\n",
              "      <td>US</td>\n",
              "      <td>0</td>\n",
              "      <td>US</td>\n",
              "      <td>S</td>\n",
              "    </tr>\n",
              "    <tr>\n",
              "      <th>6</th>\n",
              "      <td>2024</td>\n",
              "      <td>SE</td>\n",
              "      <td>FT</td>\n",
              "      <td>Research Engineer</td>\n",
              "      <td>160000</td>\n",
              "      <td>USD</td>\n",
              "      <td>160000</td>\n",
              "      <td>US</td>\n",
              "      <td>0</td>\n",
              "      <td>US</td>\n",
              "      <td>S</td>\n",
              "    </tr>\n",
              "    <tr>\n",
              "      <th>7</th>\n",
              "      <td>2024</td>\n",
              "      <td>SE</td>\n",
              "      <td>FT</td>\n",
              "      <td>Research Scientist</td>\n",
              "      <td>238600</td>\n",
              "      <td>USD</td>\n",
              "      <td>238600</td>\n",
              "      <td>US</td>\n",
              "      <td>0</td>\n",
              "      <td>US</td>\n",
              "      <td>M</td>\n",
              "    </tr>\n",
              "    <tr>\n",
              "      <th>8</th>\n",
              "      <td>2024</td>\n",
              "      <td>SE</td>\n",
              "      <td>FT</td>\n",
              "      <td>Research Scientist</td>\n",
              "      <td>112000</td>\n",
              "      <td>USD</td>\n",
              "      <td>112000</td>\n",
              "      <td>US</td>\n",
              "      <td>0</td>\n",
              "      <td>US</td>\n",
              "      <td>M</td>\n",
              "    </tr>\n",
              "    <tr>\n",
              "      <th>9</th>\n",
              "      <td>2024</td>\n",
              "      <td>SE</td>\n",
              "      <td>FT</td>\n",
              "      <td>Data Scientist</td>\n",
              "      <td>304000</td>\n",
              "      <td>USD</td>\n",
              "      <td>304000</td>\n",
              "      <td>US</td>\n",
              "      <td>0</td>\n",
              "      <td>US</td>\n",
              "      <td>M</td>\n",
              "    </tr>\n",
              "  </tbody>\n",
              "</table>\n",
              "</div>\n",
              "    <div class=\"colab-df-buttons\">\n",
              "\n",
              "  <div class=\"colab-df-container\">\n",
              "    <button class=\"colab-df-convert\" onclick=\"convertToInteractive('df-ec2338ab-a5b4-42c4-bc00-ca65e2a25851')\"\n",
              "            title=\"Convert this dataframe to an interactive table.\"\n",
              "            style=\"display:none;\">\n",
              "\n",
              "  <svg xmlns=\"http://www.w3.org/2000/svg\" height=\"24px\" viewBox=\"0 -960 960 960\">\n",
              "    <path d=\"M120-120v-720h720v720H120Zm60-500h600v-160H180v160Zm220 220h160v-160H400v160Zm0 220h160v-160H400v160ZM180-400h160v-160H180v160Zm440 0h160v-160H620v160ZM180-180h160v-160H180v160Zm440 0h160v-160H620v160Z\"/>\n",
              "  </svg>\n",
              "    </button>\n",
              "\n",
              "  <style>\n",
              "    .colab-df-container {\n",
              "      display:flex;\n",
              "      gap: 12px;\n",
              "    }\n",
              "\n",
              "    .colab-df-convert {\n",
              "      background-color: #E8F0FE;\n",
              "      border: none;\n",
              "      border-radius: 50%;\n",
              "      cursor: pointer;\n",
              "      display: none;\n",
              "      fill: #1967D2;\n",
              "      height: 32px;\n",
              "      padding: 0 0 0 0;\n",
              "      width: 32px;\n",
              "    }\n",
              "\n",
              "    .colab-df-convert:hover {\n",
              "      background-color: #E2EBFA;\n",
              "      box-shadow: 0px 1px 2px rgba(60, 64, 67, 0.3), 0px 1px 3px 1px rgba(60, 64, 67, 0.15);\n",
              "      fill: #174EA6;\n",
              "    }\n",
              "\n",
              "    .colab-df-buttons div {\n",
              "      margin-bottom: 4px;\n",
              "    }\n",
              "\n",
              "    [theme=dark] .colab-df-convert {\n",
              "      background-color: #3B4455;\n",
              "      fill: #D2E3FC;\n",
              "    }\n",
              "\n",
              "    [theme=dark] .colab-df-convert:hover {\n",
              "      background-color: #434B5C;\n",
              "      box-shadow: 0px 1px 3px 1px rgba(0, 0, 0, 0.15);\n",
              "      filter: drop-shadow(0px 1px 2px rgba(0, 0, 0, 0.3));\n",
              "      fill: #FFFFFF;\n",
              "    }\n",
              "  </style>\n",
              "\n",
              "    <script>\n",
              "      const buttonEl =\n",
              "        document.querySelector('#df-ec2338ab-a5b4-42c4-bc00-ca65e2a25851 button.colab-df-convert');\n",
              "      buttonEl.style.display =\n",
              "        google.colab.kernel.accessAllowed ? 'block' : 'none';\n",
              "\n",
              "      async function convertToInteractive(key) {\n",
              "        const element = document.querySelector('#df-ec2338ab-a5b4-42c4-bc00-ca65e2a25851');\n",
              "        const dataTable =\n",
              "          await google.colab.kernel.invokeFunction('convertToInteractive',\n",
              "                                                    [key], {});\n",
              "        if (!dataTable) return;\n",
              "\n",
              "        const docLinkHtml = 'Like what you see? Visit the ' +\n",
              "          '<a target=\"_blank\" href=https://colab.research.google.com/notebooks/data_table.ipynb>data table notebook</a>'\n",
              "          + ' to learn more about interactive tables.';\n",
              "        element.innerHTML = '';\n",
              "        dataTable['output_type'] = 'display_data';\n",
              "        await google.colab.output.renderOutput(dataTable, element);\n",
              "        const docLink = document.createElement('div');\n",
              "        docLink.innerHTML = docLinkHtml;\n",
              "        element.appendChild(docLink);\n",
              "      }\n",
              "    </script>\n",
              "  </div>\n",
              "\n",
              "\n",
              "<div id=\"df-a3d303dd-9127-47b2-ac97-d806f9f5a83c\">\n",
              "  <button class=\"colab-df-quickchart\" onclick=\"quickchart('df-a3d303dd-9127-47b2-ac97-d806f9f5a83c')\"\n",
              "            title=\"Suggest charts\"\n",
              "            style=\"display:none;\">\n",
              "\n",
              "<svg xmlns=\"http://www.w3.org/2000/svg\" height=\"24px\"viewBox=\"0 0 24 24\"\n",
              "     width=\"24px\">\n",
              "    <g>\n",
              "        <path d=\"M19 3H5c-1.1 0-2 .9-2 2v14c0 1.1.9 2 2 2h14c1.1 0 2-.9 2-2V5c0-1.1-.9-2-2-2zM9 17H7v-7h2v7zm4 0h-2V7h2v10zm4 0h-2v-4h2v4z\"/>\n",
              "    </g>\n",
              "</svg>\n",
              "  </button>\n",
              "\n",
              "<style>\n",
              "  .colab-df-quickchart {\n",
              "      --bg-color: #E8F0FE;\n",
              "      --fill-color: #1967D2;\n",
              "      --hover-bg-color: #E2EBFA;\n",
              "      --hover-fill-color: #174EA6;\n",
              "      --disabled-fill-color: #AAA;\n",
              "      --disabled-bg-color: #DDD;\n",
              "  }\n",
              "\n",
              "  [theme=dark] .colab-df-quickchart {\n",
              "      --bg-color: #3B4455;\n",
              "      --fill-color: #D2E3FC;\n",
              "      --hover-bg-color: #434B5C;\n",
              "      --hover-fill-color: #FFFFFF;\n",
              "      --disabled-bg-color: #3B4455;\n",
              "      --disabled-fill-color: #666;\n",
              "  }\n",
              "\n",
              "  .colab-df-quickchart {\n",
              "    background-color: var(--bg-color);\n",
              "    border: none;\n",
              "    border-radius: 50%;\n",
              "    cursor: pointer;\n",
              "    display: none;\n",
              "    fill: var(--fill-color);\n",
              "    height: 32px;\n",
              "    padding: 0;\n",
              "    width: 32px;\n",
              "  }\n",
              "\n",
              "  .colab-df-quickchart:hover {\n",
              "    background-color: var(--hover-bg-color);\n",
              "    box-shadow: 0 1px 2px rgba(60, 64, 67, 0.3), 0 1px 3px 1px rgba(60, 64, 67, 0.15);\n",
              "    fill: var(--button-hover-fill-color);\n",
              "  }\n",
              "\n",
              "  .colab-df-quickchart-complete:disabled,\n",
              "  .colab-df-quickchart-complete:disabled:hover {\n",
              "    background-color: var(--disabled-bg-color);\n",
              "    fill: var(--disabled-fill-color);\n",
              "    box-shadow: none;\n",
              "  }\n",
              "\n",
              "  .colab-df-spinner {\n",
              "    border: 2px solid var(--fill-color);\n",
              "    border-color: transparent;\n",
              "    border-bottom-color: var(--fill-color);\n",
              "    animation:\n",
              "      spin 1s steps(1) infinite;\n",
              "  }\n",
              "\n",
              "  @keyframes spin {\n",
              "    0% {\n",
              "      border-color: transparent;\n",
              "      border-bottom-color: var(--fill-color);\n",
              "      border-left-color: var(--fill-color);\n",
              "    }\n",
              "    20% {\n",
              "      border-color: transparent;\n",
              "      border-left-color: var(--fill-color);\n",
              "      border-top-color: var(--fill-color);\n",
              "    }\n",
              "    30% {\n",
              "      border-color: transparent;\n",
              "      border-left-color: var(--fill-color);\n",
              "      border-top-color: var(--fill-color);\n",
              "      border-right-color: var(--fill-color);\n",
              "    }\n",
              "    40% {\n",
              "      border-color: transparent;\n",
              "      border-right-color: var(--fill-color);\n",
              "      border-top-color: var(--fill-color);\n",
              "    }\n",
              "    60% {\n",
              "      border-color: transparent;\n",
              "      border-right-color: var(--fill-color);\n",
              "    }\n",
              "    80% {\n",
              "      border-color: transparent;\n",
              "      border-right-color: var(--fill-color);\n",
              "      border-bottom-color: var(--fill-color);\n",
              "    }\n",
              "    90% {\n",
              "      border-color: transparent;\n",
              "      border-bottom-color: var(--fill-color);\n",
              "    }\n",
              "  }\n",
              "</style>\n",
              "\n",
              "  <script>\n",
              "    async function quickchart(key) {\n",
              "      const quickchartButtonEl =\n",
              "        document.querySelector('#' + key + ' button');\n",
              "      quickchartButtonEl.disabled = true;  // To prevent multiple clicks.\n",
              "      quickchartButtonEl.classList.add('colab-df-spinner');\n",
              "      try {\n",
              "        const charts = await google.colab.kernel.invokeFunction(\n",
              "            'suggestCharts', [key], {});\n",
              "      } catch (error) {\n",
              "        console.error('Error during call to suggestCharts:', error);\n",
              "      }\n",
              "      quickchartButtonEl.classList.remove('colab-df-spinner');\n",
              "      quickchartButtonEl.classList.add('colab-df-quickchart-complete');\n",
              "    }\n",
              "    (() => {\n",
              "      let quickchartButtonEl =\n",
              "        document.querySelector('#df-a3d303dd-9127-47b2-ac97-d806f9f5a83c button');\n",
              "      quickchartButtonEl.style.display =\n",
              "        google.colab.kernel.accessAllowed ? 'block' : 'none';\n",
              "    })();\n",
              "  </script>\n",
              "</div>\n",
              "    </div>\n",
              "  </div>\n"
            ],
            "application/vnd.google.colaboratory.intrinsic+json": {
              "type": "dataframe",
              "variable_name": "salaries_df",
              "summary": "{\n  \"name\": \"salaries_df\",\n  \"rows\": 18056,\n  \"fields\": [\n    {\n      \"column\": \"work_year\",\n      \"properties\": {\n        \"dtype\": \"number\",\n        \"std\": 0,\n        \"min\": 2020,\n        \"max\": 2024,\n        \"num_unique_values\": 5,\n        \"samples\": [\n          2022,\n          2021,\n          2023\n        ],\n        \"semantic_type\": \"\",\n        \"description\": \"\"\n      }\n    },\n    {\n      \"column\": \"experience_level\",\n      \"properties\": {\n        \"dtype\": \"category\",\n        \"num_unique_values\": 4,\n        \"samples\": [\n          \"SE\",\n          \"EX\",\n          \"MI\"\n        ],\n        \"semantic_type\": \"\",\n        \"description\": \"\"\n      }\n    },\n    {\n      \"column\": \"employment_type\",\n      \"properties\": {\n        \"dtype\": \"category\",\n        \"num_unique_values\": 4,\n        \"samples\": [\n          \"CT\",\n          \"FL\",\n          \"FT\"\n        ],\n        \"semantic_type\": \"\",\n        \"description\": \"\"\n      }\n    },\n    {\n      \"column\": \"job_title\",\n      \"properties\": {\n        \"dtype\": \"category\",\n        \"num_unique_values\": 143,\n        \"samples\": [\n          \"Machine Learning Specialist\",\n          \"Insight Analyst\",\n          \"Big Data Engineer\"\n        ],\n        \"semantic_type\": \"\",\n        \"description\": \"\"\n      }\n    },\n    {\n      \"column\": \"salary\",\n      \"properties\": {\n        \"dtype\": \"number\",\n        \"std\": 326562,\n        \"min\": 14000,\n        \"max\": 30400000,\n        \"num_unique_values\": 2761,\n        \"samples\": [\n          45790,\n          423000,\n          95325\n        ],\n        \"semantic_type\": \"\",\n        \"description\": \"\"\n      }\n    },\n    {\n      \"column\": \"salary_currency\",\n      \"properties\": {\n        \"dtype\": \"category\",\n        \"num_unique_values\": 24,\n        \"samples\": [\n          \"ILS\",\n          \"JPY\",\n          \"CAD\"\n        ],\n        \"semantic_type\": \"\",\n        \"description\": \"\"\n      }\n    },\n    {\n      \"column\": \"salary_in_usd\",\n      \"properties\": {\n        \"dtype\": \"number\",\n        \"std\": 68728,\n        \"min\": 15000,\n        \"max\": 800000,\n        \"num_unique_values\": 3149,\n        \"samples\": [\n          52008,\n          182054,\n          180400\n        ],\n        \"semantic_type\": \"\",\n        \"description\": \"\"\n      }\n    },\n    {\n      \"column\": \"employee_residence\",\n      \"properties\": {\n        \"dtype\": \"category\",\n        \"num_unique_values\": 88,\n        \"samples\": [\n          \"PR\",\n          \"CA\",\n          \"CH\"\n        ],\n        \"semantic_type\": \"\",\n        \"description\": \"\"\n      }\n    },\n    {\n      \"column\": \"remote_ratio\",\n      \"properties\": {\n        \"dtype\": \"number\",\n        \"std\": 45,\n        \"min\": 0,\n        \"max\": 100,\n        \"num_unique_values\": 3,\n        \"samples\": [\n          100,\n          0,\n          50\n        ],\n        \"semantic_type\": \"\",\n        \"description\": \"\"\n      }\n    },\n    {\n      \"column\": \"company_location\",\n      \"properties\": {\n        \"dtype\": \"category\",\n        \"num_unique_values\": 77,\n        \"samples\": [\n          \"DE\",\n          \"AS\",\n          \"IN\"\n        ],\n        \"semantic_type\": \"\",\n        \"description\": \"\"\n      }\n    },\n    {\n      \"column\": \"company_size\",\n      \"properties\": {\n        \"dtype\": \"category\",\n        \"num_unique_values\": 3,\n        \"samples\": [\n          \"S\",\n          \"M\",\n          \"L\"\n        ],\n        \"semantic_type\": \"\",\n        \"description\": \"\"\n      }\n    }\n  ]\n}"
            }
          },
          "metadata": {},
          "execution_count": 191
        }
      ]
    },
    {
      "cell_type": "markdown",
      "source": [
        "Imprimimos el nombre y el tipo de data de cada columna"
      ],
      "metadata": {
        "id": "f0tLr1lWyGon"
      }
    },
    {
      "cell_type": "code",
      "source": [
        "print(\"Las columnas presentes en el dataframe son: \\n\")\n",
        "\n",
        "salaries_df.dtypes"
      ],
      "metadata": {
        "colab": {
          "base_uri": "https://localhost:8080/"
        },
        "id": "TqjkMzWHzePL",
        "outputId": "70f97f6b-1c3e-48eb-f046-acabbb5a22d0"
      },
      "execution_count": null,
      "outputs": [
        {
          "output_type": "stream",
          "name": "stdout",
          "text": [
            "Las columnas presentes en el dataframe son: \n",
            "\n"
          ]
        },
        {
          "output_type": "execute_result",
          "data": {
            "text/plain": [
              "work_year              int64\n",
              "experience_level      object\n",
              "employment_type       object\n",
              "job_title             object\n",
              "salary                 int64\n",
              "salary_currency       object\n",
              "salary_in_usd          int64\n",
              "employee_residence    object\n",
              "remote_ratio           int64\n",
              "company_location      object\n",
              "company_size          object\n",
              "dtype: object"
            ]
          },
          "metadata": {},
          "execution_count": 192
        }
      ]
    },
    {
      "cell_type": "markdown",
      "source": [
        "### Manipulación de datos"
      ],
      "metadata": {
        "id": "_nWYIXd12QFh"
      }
    },
    {
      "cell_type": "markdown",
      "source": [
        "Empezaremos creando una función que nos permita separar cada año en dataframes distintos guardándolos a través de un diccionario.\n",
        "\n",
        "Para ello creamos una función llamada \"year_segregator\""
      ],
      "metadata": {
        "id": "5fZx6oeL2q_7"
      }
    },
    {
      "cell_type": "code",
      "source": [
        "def year_segregator(df):\n",
        "  \"\"\"Función que nos permite separar un dataframe distinto para cada año\"\"\"\n",
        "\n",
        "  # Creación del arreglo years con los valores únicos en la columna \"work_year\"\n",
        "  years = df['work_year'].unique()\n",
        "  years.sort()\n",
        "\n",
        "  # Inicialización de un diccionario vacío\n",
        "  years_df = {}\n",
        "\n",
        "  # Ciclo for para iterar en cada elmeneto del arreglo years\n",
        "  for year in years:\n",
        "\n",
        "    # Creación de un dataframe por cada año de la iteración\n",
        "    year_df = df[df['work_year'] == year]\n",
        "\n",
        "    # Agregación del dataframe de cada iteración al diccionario\n",
        "    years_df[year] = year_df\n",
        "\n",
        "  # Retorno del diccionario\n",
        "  return years_df"
      ],
      "metadata": {
        "id": "SXsbo76n2m4Y"
      },
      "execution_count": null,
      "outputs": []
    },
    {
      "cell_type": "markdown",
      "source": [
        "Mandamos a llamar la función y guardamos su retorno en una nueva variable"
      ],
      "metadata": {
        "id": "5ghe49PLra1O"
      }
    },
    {
      "cell_type": "code",
      "source": [
        "# LLamado de la función year_segregator\n",
        "years_df = year_segregator(salaries_df)\n",
        "\n",
        "# Impresión de un año aleatorio del diccionario\n",
        "years_df[random.choice(salaries_df['work_year'].unique())]"
      ],
      "metadata": {
        "colab": {
          "base_uri": "https://localhost:8080/",
          "height": 687
        },
        "id": "bqHWRQ9uP5-b",
        "outputId": "e4d2464b-ff04-47a2-ec67-93d4fa22e807"
      },
      "execution_count": null,
      "outputs": [
        {
          "output_type": "execute_result",
          "data": {
            "text/plain": [
              "       work_year experience_level employment_type  \\\n",
              "2571        2022               MI              FT   \n",
              "3068        2022               SE              FT   \n",
              "3217        2022               SE              FT   \n",
              "6264        2022               SE              FT   \n",
              "9548        2022               EN              FT   \n",
              "...          ...              ...             ...   \n",
              "17804       2022               EN              FT   \n",
              "17808       2022               EN              FT   \n",
              "17809       2022               SE              FT   \n",
              "17811       2022               EN              FT   \n",
              "17814       2022               EN              FT   \n",
              "\n",
              "                            job_title  salary salary_currency  salary_in_usd  \\\n",
              "2571                      AI Engineer  360000             ILS         107093   \n",
              "3068                     AI Architect  180000             USD         180000   \n",
              "3217                       BI Analyst  133333             BRL          25804   \n",
              "6264             Admin & Data Analyst   60000             USD          60000   \n",
              "9548             AI Research Engineer   30000             GBP          36940   \n",
              "...                               ...     ...             ...            ...   \n",
              "17804          Financial Data Analyst  100000             USD         100000   \n",
              "17808                   Data Engineer  120000             USD         120000   \n",
              "17809  Lead Machine Learning Engineer   80000             EUR          84053   \n",
              "17811        Computer Vision Engineer  125000             USD         125000   \n",
              "17814       Machine Learning Engineer   20000             EUR          21013   \n",
              "\n",
              "      employee_residence  remote_ratio company_location company_size  \n",
              "2571                  IL           100               IL            L  \n",
              "3068                  HR           100               US            M  \n",
              "3217                  BR           100               BR            M  \n",
              "6264                  IN           100               IN            M  \n",
              "9548                  GB           100               GB            L  \n",
              "...                  ...           ...              ...          ...  \n",
              "17804                 US            50               US            L  \n",
              "17808                 US           100               US            M  \n",
              "17809                 DE             0               DE            M  \n",
              "17811                 US             0               US            M  \n",
              "17814                 PT           100               PT            L  \n",
              "\n",
              "[1655 rows x 11 columns]"
            ],
            "text/html": [
              "\n",
              "  <div id=\"df-533d1259-f5a3-4688-a67d-21677b269fc2\" class=\"colab-df-container\">\n",
              "    <div>\n",
              "<style scoped>\n",
              "    .dataframe tbody tr th:only-of-type {\n",
              "        vertical-align: middle;\n",
              "    }\n",
              "\n",
              "    .dataframe tbody tr th {\n",
              "        vertical-align: top;\n",
              "    }\n",
              "\n",
              "    .dataframe thead th {\n",
              "        text-align: right;\n",
              "    }\n",
              "</style>\n",
              "<table border=\"1\" class=\"dataframe\">\n",
              "  <thead>\n",
              "    <tr style=\"text-align: right;\">\n",
              "      <th></th>\n",
              "      <th>work_year</th>\n",
              "      <th>experience_level</th>\n",
              "      <th>employment_type</th>\n",
              "      <th>job_title</th>\n",
              "      <th>salary</th>\n",
              "      <th>salary_currency</th>\n",
              "      <th>salary_in_usd</th>\n",
              "      <th>employee_residence</th>\n",
              "      <th>remote_ratio</th>\n",
              "      <th>company_location</th>\n",
              "      <th>company_size</th>\n",
              "    </tr>\n",
              "  </thead>\n",
              "  <tbody>\n",
              "    <tr>\n",
              "      <th>2571</th>\n",
              "      <td>2022</td>\n",
              "      <td>MI</td>\n",
              "      <td>FT</td>\n",
              "      <td>AI Engineer</td>\n",
              "      <td>360000</td>\n",
              "      <td>ILS</td>\n",
              "      <td>107093</td>\n",
              "      <td>IL</td>\n",
              "      <td>100</td>\n",
              "      <td>IL</td>\n",
              "      <td>L</td>\n",
              "    </tr>\n",
              "    <tr>\n",
              "      <th>3068</th>\n",
              "      <td>2022</td>\n",
              "      <td>SE</td>\n",
              "      <td>FT</td>\n",
              "      <td>AI Architect</td>\n",
              "      <td>180000</td>\n",
              "      <td>USD</td>\n",
              "      <td>180000</td>\n",
              "      <td>HR</td>\n",
              "      <td>100</td>\n",
              "      <td>US</td>\n",
              "      <td>M</td>\n",
              "    </tr>\n",
              "    <tr>\n",
              "      <th>3217</th>\n",
              "      <td>2022</td>\n",
              "      <td>SE</td>\n",
              "      <td>FT</td>\n",
              "      <td>BI Analyst</td>\n",
              "      <td>133333</td>\n",
              "      <td>BRL</td>\n",
              "      <td>25804</td>\n",
              "      <td>BR</td>\n",
              "      <td>100</td>\n",
              "      <td>BR</td>\n",
              "      <td>M</td>\n",
              "    </tr>\n",
              "    <tr>\n",
              "      <th>6264</th>\n",
              "      <td>2022</td>\n",
              "      <td>SE</td>\n",
              "      <td>FT</td>\n",
              "      <td>Admin &amp; Data Analyst</td>\n",
              "      <td>60000</td>\n",
              "      <td>USD</td>\n",
              "      <td>60000</td>\n",
              "      <td>IN</td>\n",
              "      <td>100</td>\n",
              "      <td>IN</td>\n",
              "      <td>M</td>\n",
              "    </tr>\n",
              "    <tr>\n",
              "      <th>9548</th>\n",
              "      <td>2022</td>\n",
              "      <td>EN</td>\n",
              "      <td>FT</td>\n",
              "      <td>AI Research Engineer</td>\n",
              "      <td>30000</td>\n",
              "      <td>GBP</td>\n",
              "      <td>36940</td>\n",
              "      <td>GB</td>\n",
              "      <td>100</td>\n",
              "      <td>GB</td>\n",
              "      <td>L</td>\n",
              "    </tr>\n",
              "    <tr>\n",
              "      <th>...</th>\n",
              "      <td>...</td>\n",
              "      <td>...</td>\n",
              "      <td>...</td>\n",
              "      <td>...</td>\n",
              "      <td>...</td>\n",
              "      <td>...</td>\n",
              "      <td>...</td>\n",
              "      <td>...</td>\n",
              "      <td>...</td>\n",
              "      <td>...</td>\n",
              "      <td>...</td>\n",
              "    </tr>\n",
              "    <tr>\n",
              "      <th>17804</th>\n",
              "      <td>2022</td>\n",
              "      <td>EN</td>\n",
              "      <td>FT</td>\n",
              "      <td>Financial Data Analyst</td>\n",
              "      <td>100000</td>\n",
              "      <td>USD</td>\n",
              "      <td>100000</td>\n",
              "      <td>US</td>\n",
              "      <td>50</td>\n",
              "      <td>US</td>\n",
              "      <td>L</td>\n",
              "    </tr>\n",
              "    <tr>\n",
              "      <th>17808</th>\n",
              "      <td>2022</td>\n",
              "      <td>EN</td>\n",
              "      <td>FT</td>\n",
              "      <td>Data Engineer</td>\n",
              "      <td>120000</td>\n",
              "      <td>USD</td>\n",
              "      <td>120000</td>\n",
              "      <td>US</td>\n",
              "      <td>100</td>\n",
              "      <td>US</td>\n",
              "      <td>M</td>\n",
              "    </tr>\n",
              "    <tr>\n",
              "      <th>17809</th>\n",
              "      <td>2022</td>\n",
              "      <td>SE</td>\n",
              "      <td>FT</td>\n",
              "      <td>Lead Machine Learning Engineer</td>\n",
              "      <td>80000</td>\n",
              "      <td>EUR</td>\n",
              "      <td>84053</td>\n",
              "      <td>DE</td>\n",
              "      <td>0</td>\n",
              "      <td>DE</td>\n",
              "      <td>M</td>\n",
              "    </tr>\n",
              "    <tr>\n",
              "      <th>17811</th>\n",
              "      <td>2022</td>\n",
              "      <td>EN</td>\n",
              "      <td>FT</td>\n",
              "      <td>Computer Vision Engineer</td>\n",
              "      <td>125000</td>\n",
              "      <td>USD</td>\n",
              "      <td>125000</td>\n",
              "      <td>US</td>\n",
              "      <td>0</td>\n",
              "      <td>US</td>\n",
              "      <td>M</td>\n",
              "    </tr>\n",
              "    <tr>\n",
              "      <th>17814</th>\n",
              "      <td>2022</td>\n",
              "      <td>EN</td>\n",
              "      <td>FT</td>\n",
              "      <td>Machine Learning Engineer</td>\n",
              "      <td>20000</td>\n",
              "      <td>EUR</td>\n",
              "      <td>21013</td>\n",
              "      <td>PT</td>\n",
              "      <td>100</td>\n",
              "      <td>PT</td>\n",
              "      <td>L</td>\n",
              "    </tr>\n",
              "  </tbody>\n",
              "</table>\n",
              "<p>1655 rows × 11 columns</p>\n",
              "</div>\n",
              "    <div class=\"colab-df-buttons\">\n",
              "\n",
              "  <div class=\"colab-df-container\">\n",
              "    <button class=\"colab-df-convert\" onclick=\"convertToInteractive('df-533d1259-f5a3-4688-a67d-21677b269fc2')\"\n",
              "            title=\"Convert this dataframe to an interactive table.\"\n",
              "            style=\"display:none;\">\n",
              "\n",
              "  <svg xmlns=\"http://www.w3.org/2000/svg\" height=\"24px\" viewBox=\"0 -960 960 960\">\n",
              "    <path d=\"M120-120v-720h720v720H120Zm60-500h600v-160H180v160Zm220 220h160v-160H400v160Zm0 220h160v-160H400v160ZM180-400h160v-160H180v160Zm440 0h160v-160H620v160ZM180-180h160v-160H180v160Zm440 0h160v-160H620v160Z\"/>\n",
              "  </svg>\n",
              "    </button>\n",
              "\n",
              "  <style>\n",
              "    .colab-df-container {\n",
              "      display:flex;\n",
              "      gap: 12px;\n",
              "    }\n",
              "\n",
              "    .colab-df-convert {\n",
              "      background-color: #E8F0FE;\n",
              "      border: none;\n",
              "      border-radius: 50%;\n",
              "      cursor: pointer;\n",
              "      display: none;\n",
              "      fill: #1967D2;\n",
              "      height: 32px;\n",
              "      padding: 0 0 0 0;\n",
              "      width: 32px;\n",
              "    }\n",
              "\n",
              "    .colab-df-convert:hover {\n",
              "      background-color: #E2EBFA;\n",
              "      box-shadow: 0px 1px 2px rgba(60, 64, 67, 0.3), 0px 1px 3px 1px rgba(60, 64, 67, 0.15);\n",
              "      fill: #174EA6;\n",
              "    }\n",
              "\n",
              "    .colab-df-buttons div {\n",
              "      margin-bottom: 4px;\n",
              "    }\n",
              "\n",
              "    [theme=dark] .colab-df-convert {\n",
              "      background-color: #3B4455;\n",
              "      fill: #D2E3FC;\n",
              "    }\n",
              "\n",
              "    [theme=dark] .colab-df-convert:hover {\n",
              "      background-color: #434B5C;\n",
              "      box-shadow: 0px 1px 3px 1px rgba(0, 0, 0, 0.15);\n",
              "      filter: drop-shadow(0px 1px 2px rgba(0, 0, 0, 0.3));\n",
              "      fill: #FFFFFF;\n",
              "    }\n",
              "  </style>\n",
              "\n",
              "    <script>\n",
              "      const buttonEl =\n",
              "        document.querySelector('#df-533d1259-f5a3-4688-a67d-21677b269fc2 button.colab-df-convert');\n",
              "      buttonEl.style.display =\n",
              "        google.colab.kernel.accessAllowed ? 'block' : 'none';\n",
              "\n",
              "      async function convertToInteractive(key) {\n",
              "        const element = document.querySelector('#df-533d1259-f5a3-4688-a67d-21677b269fc2');\n",
              "        const dataTable =\n",
              "          await google.colab.kernel.invokeFunction('convertToInteractive',\n",
              "                                                    [key], {});\n",
              "        if (!dataTable) return;\n",
              "\n",
              "        const docLinkHtml = 'Like what you see? Visit the ' +\n",
              "          '<a target=\"_blank\" href=https://colab.research.google.com/notebooks/data_table.ipynb>data table notebook</a>'\n",
              "          + ' to learn more about interactive tables.';\n",
              "        element.innerHTML = '';\n",
              "        dataTable['output_type'] = 'display_data';\n",
              "        await google.colab.output.renderOutput(dataTable, element);\n",
              "        const docLink = document.createElement('div');\n",
              "        docLink.innerHTML = docLinkHtml;\n",
              "        element.appendChild(docLink);\n",
              "      }\n",
              "    </script>\n",
              "  </div>\n",
              "\n",
              "\n",
              "<div id=\"df-3c734014-286f-4eb5-adad-3f367e861d6a\">\n",
              "  <button class=\"colab-df-quickchart\" onclick=\"quickchart('df-3c734014-286f-4eb5-adad-3f367e861d6a')\"\n",
              "            title=\"Suggest charts\"\n",
              "            style=\"display:none;\">\n",
              "\n",
              "<svg xmlns=\"http://www.w3.org/2000/svg\" height=\"24px\"viewBox=\"0 0 24 24\"\n",
              "     width=\"24px\">\n",
              "    <g>\n",
              "        <path d=\"M19 3H5c-1.1 0-2 .9-2 2v14c0 1.1.9 2 2 2h14c1.1 0 2-.9 2-2V5c0-1.1-.9-2-2-2zM9 17H7v-7h2v7zm4 0h-2V7h2v10zm4 0h-2v-4h2v4z\"/>\n",
              "    </g>\n",
              "</svg>\n",
              "  </button>\n",
              "\n",
              "<style>\n",
              "  .colab-df-quickchart {\n",
              "      --bg-color: #E8F0FE;\n",
              "      --fill-color: #1967D2;\n",
              "      --hover-bg-color: #E2EBFA;\n",
              "      --hover-fill-color: #174EA6;\n",
              "      --disabled-fill-color: #AAA;\n",
              "      --disabled-bg-color: #DDD;\n",
              "  }\n",
              "\n",
              "  [theme=dark] .colab-df-quickchart {\n",
              "      --bg-color: #3B4455;\n",
              "      --fill-color: #D2E3FC;\n",
              "      --hover-bg-color: #434B5C;\n",
              "      --hover-fill-color: #FFFFFF;\n",
              "      --disabled-bg-color: #3B4455;\n",
              "      --disabled-fill-color: #666;\n",
              "  }\n",
              "\n",
              "  .colab-df-quickchart {\n",
              "    background-color: var(--bg-color);\n",
              "    border: none;\n",
              "    border-radius: 50%;\n",
              "    cursor: pointer;\n",
              "    display: none;\n",
              "    fill: var(--fill-color);\n",
              "    height: 32px;\n",
              "    padding: 0;\n",
              "    width: 32px;\n",
              "  }\n",
              "\n",
              "  .colab-df-quickchart:hover {\n",
              "    background-color: var(--hover-bg-color);\n",
              "    box-shadow: 0 1px 2px rgba(60, 64, 67, 0.3), 0 1px 3px 1px rgba(60, 64, 67, 0.15);\n",
              "    fill: var(--button-hover-fill-color);\n",
              "  }\n",
              "\n",
              "  .colab-df-quickchart-complete:disabled,\n",
              "  .colab-df-quickchart-complete:disabled:hover {\n",
              "    background-color: var(--disabled-bg-color);\n",
              "    fill: var(--disabled-fill-color);\n",
              "    box-shadow: none;\n",
              "  }\n",
              "\n",
              "  .colab-df-spinner {\n",
              "    border: 2px solid var(--fill-color);\n",
              "    border-color: transparent;\n",
              "    border-bottom-color: var(--fill-color);\n",
              "    animation:\n",
              "      spin 1s steps(1) infinite;\n",
              "  }\n",
              "\n",
              "  @keyframes spin {\n",
              "    0% {\n",
              "      border-color: transparent;\n",
              "      border-bottom-color: var(--fill-color);\n",
              "      border-left-color: var(--fill-color);\n",
              "    }\n",
              "    20% {\n",
              "      border-color: transparent;\n",
              "      border-left-color: var(--fill-color);\n",
              "      border-top-color: var(--fill-color);\n",
              "    }\n",
              "    30% {\n",
              "      border-color: transparent;\n",
              "      border-left-color: var(--fill-color);\n",
              "      border-top-color: var(--fill-color);\n",
              "      border-right-color: var(--fill-color);\n",
              "    }\n",
              "    40% {\n",
              "      border-color: transparent;\n",
              "      border-right-color: var(--fill-color);\n",
              "      border-top-color: var(--fill-color);\n",
              "    }\n",
              "    60% {\n",
              "      border-color: transparent;\n",
              "      border-right-color: var(--fill-color);\n",
              "    }\n",
              "    80% {\n",
              "      border-color: transparent;\n",
              "      border-right-color: var(--fill-color);\n",
              "      border-bottom-color: var(--fill-color);\n",
              "    }\n",
              "    90% {\n",
              "      border-color: transparent;\n",
              "      border-bottom-color: var(--fill-color);\n",
              "    }\n",
              "  }\n",
              "</style>\n",
              "\n",
              "  <script>\n",
              "    async function quickchart(key) {\n",
              "      const quickchartButtonEl =\n",
              "        document.querySelector('#' + key + ' button');\n",
              "      quickchartButtonEl.disabled = true;  // To prevent multiple clicks.\n",
              "      quickchartButtonEl.classList.add('colab-df-spinner');\n",
              "      try {\n",
              "        const charts = await google.colab.kernel.invokeFunction(\n",
              "            'suggestCharts', [key], {});\n",
              "      } catch (error) {\n",
              "        console.error('Error during call to suggestCharts:', error);\n",
              "      }\n",
              "      quickchartButtonEl.classList.remove('colab-df-spinner');\n",
              "      quickchartButtonEl.classList.add('colab-df-quickchart-complete');\n",
              "    }\n",
              "    (() => {\n",
              "      let quickchartButtonEl =\n",
              "        document.querySelector('#df-3c734014-286f-4eb5-adad-3f367e861d6a button');\n",
              "      quickchartButtonEl.style.display =\n",
              "        google.colab.kernel.accessAllowed ? 'block' : 'none';\n",
              "    })();\n",
              "  </script>\n",
              "</div>\n",
              "    </div>\n",
              "  </div>\n"
            ],
            "application/vnd.google.colaboratory.intrinsic+json": {
              "type": "dataframe",
              "summary": "{\n  \"name\": \"years_df[random\",\n  \"rows\": 1655,\n  \"fields\": [\n    {\n      \"column\": \"work_year\",\n      \"properties\": {\n        \"dtype\": \"number\",\n        \"std\": 0,\n        \"min\": 2022,\n        \"max\": 2022,\n        \"num_unique_values\": 1,\n        \"samples\": [\n          2022\n        ],\n        \"semantic_type\": \"\",\n        \"description\": \"\"\n      }\n    },\n    {\n      \"column\": \"experience_level\",\n      \"properties\": {\n        \"dtype\": \"category\",\n        \"num_unique_values\": 4,\n        \"samples\": [\n          \"SE\"\n        ],\n        \"semantic_type\": \"\",\n        \"description\": \"\"\n      }\n    },\n    {\n      \"column\": \"employment_type\",\n      \"properties\": {\n        \"dtype\": \"category\",\n        \"num_unique_values\": 4,\n        \"samples\": [\n          \"CT\"\n        ],\n        \"semantic_type\": \"\",\n        \"description\": \"\"\n      }\n    },\n    {\n      \"column\": \"job_title\",\n      \"properties\": {\n        \"dtype\": \"category\",\n        \"num_unique_values\": 62,\n        \"samples\": [\n          \"Machine Learning Manager\"\n        ],\n        \"semantic_type\": \"\",\n        \"description\": \"\"\n      }\n    },\n    {\n      \"column\": \"salary\",\n      \"properties\": {\n        \"dtype\": \"number\",\n        \"std\": 381363,\n        \"min\": 15000,\n        \"max\": 7500000,\n        \"num_unique_values\": 433,\n        \"samples\": [\n          88000\n        ],\n        \"semantic_type\": \"\",\n        \"description\": \"\"\n      }\n    },\n    {\n      \"column\": \"salary_currency\",\n      \"properties\": {\n        \"dtype\": \"category\",\n        \"num_unique_values\": 13,\n        \"samples\": [\n          \"AUD\"\n        ],\n        \"semantic_type\": \"\",\n        \"description\": \"\"\n      }\n    },\n    {\n      \"column\": \"salary_in_usd\",\n      \"properties\": {\n        \"dtype\": \"number\",\n        \"std\": 57739,\n        \"min\": 15000,\n        \"max\": 430967,\n        \"num_unique_values\": 503,\n        \"samples\": [\n          130050\n        ],\n        \"semantic_type\": \"\",\n        \"description\": \"\"\n      }\n    },\n    {\n      \"column\": \"employee_residence\",\n      \"properties\": {\n        \"dtype\": \"category\",\n        \"num_unique_values\": 48,\n        \"samples\": [\n          \"HU\"\n        ],\n        \"semantic_type\": \"\",\n        \"description\": \"\"\n      }\n    },\n    {\n      \"column\": \"remote_ratio\",\n      \"properties\": {\n        \"dtype\": \"number\",\n        \"std\": 48,\n        \"min\": 0,\n        \"max\": 100,\n        \"num_unique_values\": 3,\n        \"samples\": [\n          100\n        ],\n        \"semantic_type\": \"\",\n        \"description\": \"\"\n      }\n    },\n    {\n      \"column\": \"company_location\",\n      \"properties\": {\n        \"dtype\": \"category\",\n        \"num_unique_values\": 42,\n        \"samples\": [\n          \"AT\"\n        ],\n        \"semantic_type\": \"\",\n        \"description\": \"\"\n      }\n    },\n    {\n      \"column\": \"company_size\",\n      \"properties\": {\n        \"dtype\": \"category\",\n        \"num_unique_values\": 3,\n        \"samples\": [\n          \"L\"\n        ],\n        \"semantic_type\": \"\",\n        \"description\": \"\"\n      }\n    }\n  ]\n}"
            }
          },
          "metadata": {},
          "execution_count": 194
        }
      ]
    },
    {
      "cell_type": "markdown",
      "source": [
        "Empezaremos analizando la evolución del salario medio global en dólares por año, mediante una función que nos permite obtener las medias anuales en una lista de tuplas con el año y su media salarial"
      ],
      "metadata": {
        "id": "FHfVQ71dsGNg"
      }
    },
    {
      "cell_type": "code",
      "source": [
        "def yearly_avg(years_df):\n",
        "  \"Función que devuelve un arreglo con el año y el promedio anual por cada año del diccionario\"\n",
        "\n",
        "  # Inicialización de un arreglo vacío\n",
        "  salaries_avg = []\n",
        "\n",
        "  # Ciclo For para recorrer cada año del diccionario\n",
        "  for year in years_df:\n",
        "\n",
        "    # Agregación de la tupla con el año y el salario de cada iteración\n",
        "    salaries_avg.append([year,int(years_df[year]['salary_in_usd'].mean())])\n",
        "\n",
        "  # Retorno de la lista de tuplas\n",
        "  return salaries_avg"
      ],
      "metadata": {
        "id": "-gjYoX6utivY"
      },
      "execution_count": null,
      "outputs": []
    },
    {
      "cell_type": "markdown",
      "source": [
        "Mandaremos a llamar la función para imprimir el salario de cada año"
      ],
      "metadata": {
        "id": "dcN5zRHc0Lu-"
      }
    },
    {
      "cell_type": "code",
      "source": [
        "# Creación de la variable \"yearly\" que tiene la lista que retorna el llamado de la función yearly_abg\n",
        "yearly = yearly_avg(years_df)\n",
        "\n",
        "for i in range(len(anios)):\n",
        "  print(\"El salario medio en el\", anio[i][0], \"fue de\", anio[i][1], \"dólares\")"
      ],
      "metadata": {
        "colab": {
          "base_uri": "https://localhost:8080/"
        },
        "id": "_ulMpCBjyNeR",
        "outputId": "c5d95cd3-13f9-4803-c637-0c27266624f4"
      },
      "execution_count": null,
      "outputs": [
        {
          "output_type": "stream",
          "name": "stdout",
          "text": [
            "El salario medio en el 2020 fue de 102250 dólares\n",
            "El salario medio en el 2021 fue de 99922 dólares\n",
            "El salario medio en el 2022 fue de 134349 dólares\n",
            "El salario medio en el 2023 fue de 153732 dólares\n",
            "El salario medio en el 2024 fue de 153170 dólares\n"
          ]
        }
      ]
    },
    {
      "cell_type": "markdown",
      "source": [
        "Como podemos ver, el salario medio no tiene un patrón de evolución consistente, lo que nos indica que quizás están sesgados los datos.\n",
        "\n",
        "Trataremos de separarlos por nivel de experiencia y tipo de trabajo para tener una comparación más justa.\n",
        "\n",
        "Primero lo haremos en el Dataframe general."
      ],
      "metadata": {
        "id": "EpuzFfzJ8C03"
      }
    },
    {
      "cell_type": "code",
      "source": [
        "# Creación de un diccionario que almacena el nombre de la posición con las siglas como las llaves\n",
        "exp_dict = {'MI': 'Mid-level / Intermediate', 'SE' : 'Senior-level / Expert', 'EN': 'Entry-level / Junior', 'EX': 'Executive-level / Director'}\n",
        "\n",
        "# Ciclo for para recorrer cada nivel de experiencia del Dataframe\n",
        "for i in salaries_df['experience_level'].unique():\n",
        "\n",
        "  # Impresión del salario medio para cada nivel\n",
        "  print(\"El salario medio para los\", exp_dict[i], \"es de\", int(salaries_df[salaries_df['experience_level']==i]['salary_in_usd'].mean()))"
      ],
      "metadata": {
        "colab": {
          "base_uri": "https://localhost:8080/"
        },
        "id": "G0s47-D4G5t7",
        "outputId": "d50da36a-b8af-47d1-e8f8-fbf81bf27373"
      },
      "execution_count": null,
      "outputs": [
        {
          "output_type": "stream",
          "name": "stdout",
          "text": [
            "El salario medio para los Mid-level / Intermediate es de 128971\n",
            "El salario medio para los Senior-level / Expert es de 164845\n",
            "El salario medio para los Entry-level / Junior es de 93027\n",
            "El salario medio para los Executive-level / Director es de 197198\n"
          ]
        }
      ]
    },
    {
      "cell_type": "markdown",
      "source": [
        "Ahora separaremos el dataframe original en dataframes individuales para cada nivel de experiencia y mandaremos a llamar la función yearly_avg"
      ],
      "metadata": {
        "id": "PWgByTRGPsp4"
      }
    },
    {
      "cell_type": "markdown",
      "source": [
        "Mid-level / Intermediate"
      ],
      "metadata": {
        "id": "wipcXVcBVJtC"
      }
    },
    {
      "cell_type": "code",
      "source": [
        "# Creación del arreglo con la tupla del año y salario medio para los Mid-level / Intermediate\n",
        "yearly_MI = yearly_avg(year_segregator(salaries_df[salaries_df['experience_level']=='MI']))\n",
        "\n",
        "# Ciclo For para recorrer cada año en el arreglo\n",
        "for i in range(len(yearly_MI)):\n",
        "  # Impresión del salario medio para cada año\n",
        "  print(\"El salario medio para los\", exp_dict['MI'],\"en el\", yearly_MI[i][0], \"fue de\", yearly_MI[i][1], \"dólares\")"
      ],
      "metadata": {
        "colab": {
          "base_uri": "https://localhost:8080/"
        },
        "id": "E4mY-sIFPsdq",
        "outputId": "84f467de-5e1d-44bf-ee5a-b68de76e74da"
      },
      "execution_count": null,
      "outputs": [
        {
          "output_type": "stream",
          "name": "stdout",
          "text": [
            "El salario medio para los Mid-level / Intermediate en el 2020 fue de 91870 dólares\n",
            "El salario medio para los Mid-level / Intermediate en el 2021 fue de 86818 dólares\n",
            "El salario medio para los Mid-level / Intermediate en el 2022 fue de 102745 dólares\n",
            "El salario medio para los Mid-level / Intermediate en el 2023 fue de 123821 dólares\n",
            "El salario medio para los Mid-level / Intermediate en el 2024 fue de 138620 dólares\n"
          ]
        }
      ]
    },
    {
      "cell_type": "markdown",
      "source": [
        "Senior-level / Expert"
      ],
      "metadata": {
        "id": "P_j9v-TVVMbc"
      }
    },
    {
      "cell_type": "code",
      "source": [
        "# Creación del arreglo con la tupla del año y salario medio para los Senior-level / Expert\n",
        "yearly_SE = yearly_avg(year_segregator(salaries_df[salaries_df['experience_level']=='SE']))\n",
        "\n",
        "# Ciclo For para recorrer cada año en el arreglo\n",
        "for i in range(len(yearly_SE)):\n",
        "  # Impresión del salario medio para cada año\n",
        "  print(\"El salario medio para los\", exp_dict['SE'],\"en el\", yearly_SE[i][0], \"fue de\", yearly_SE[i][1], \"dólares\")\n"
      ],
      "metadata": {
        "colab": {
          "base_uri": "https://localhost:8080/"
        },
        "id": "boeTgayuVSIT",
        "outputId": "db9abb0e-dc8d-47f1-f42a-dae80f251fdd"
      },
      "execution_count": null,
      "outputs": [
        {
          "output_type": "stream",
          "name": "stdout",
          "text": [
            "El salario medio para los Senior-level / Expert en el 2020 fue de 138648 dólares\n",
            "El salario medio para los Senior-level / Expert en el 2021 fue de 125989 dólares\n",
            "El salario medio para los Senior-level / Expert en el 2022 fue de 147903 dólares\n",
            "El salario medio para los Senior-level / Expert en el 2023 fue de 165421 dólares\n",
            "El salario medio para los Senior-level / Expert en el 2024 fue de 169466 dólares\n"
          ]
        }
      ]
    },
    {
      "cell_type": "markdown",
      "source": [
        "Entry-level / Junior"
      ],
      "metadata": {
        "id": "elL4V460zlq-"
      }
    },
    {
      "cell_type": "code",
      "source": [
        "# Creación del arreglo con la tupla del año y salario medio para los Entry-level / Junior\n",
        "yearly_EN = yearly_avg(year_segregator(salaries_df[salaries_df['experience_level']=='EN']))\n",
        "\n",
        "# Ciclo For para recorrer cada año en el arreglo\n",
        "for i in range(len(yearly_EN)):\n",
        "  # Impresión del salario medio para cada año\n",
        "  print(\"El salario medio para los\", exp_dict['EN'],\"en el\", yearly_EN[i][0], \"fue de\", yearly_EN[i][1], \"dólares\")"
      ],
      "metadata": {
        "colab": {
          "base_uri": "https://localhost:8080/"
        },
        "id": "0Ao88GSJzmJR",
        "outputId": "4c219377-40da-4563-a605-ec0efda841fd"
      },
      "execution_count": null,
      "outputs": [
        {
          "output_type": "stream",
          "name": "stdout",
          "text": [
            "El salario medio para los Entry-level / Junior en el 2020 fue de 69840 dólares\n",
            "El salario medio para los Entry-level / Junior en el 2021 fue de 63463 dólares\n",
            "El salario medio para los Entry-level / Junior en el 2022 fue de 80018 dólares\n",
            "El salario medio para los Entry-level / Junior en el 2023 fue de 91166 dólares\n",
            "El salario medio para los Entry-level / Junior en el 2024 fue de 98199 dólares\n"
          ]
        }
      ]
    },
    {
      "cell_type": "markdown",
      "source": [
        "Executive-level / Director"
      ],
      "metadata": {
        "id": "W_SiEYqmz9Fx"
      }
    },
    {
      "cell_type": "code",
      "source": [
        "# Creación del arreglo con la tupla del año y salario medio para los Executive-level / Director\n",
        "yearly_EX = yearly_avg(year_segregator(salaries_df[salaries_df['experience_level']=='EX']))\n",
        "\n",
        "# Ciclo For para recorrer cada año en el arreglo\n",
        "for i in range(len(yearly_EX)):\n",
        "  # Impresión del salario medio para cada año\n",
        "  print(\"El salario medio para los\", exp_dict['EX'],\"en el\", yearly_EX[i][0], \"fue de\", yearly_EX[i][1], \"dólares\")"
      ],
      "metadata": {
        "colab": {
          "base_uri": "https://localhost:8080/"
        },
        "id": "7kKF_i08z9er",
        "outputId": "bc81fe72-17d7-408f-984e-34553dc6f210"
      },
      "execution_count": null,
      "outputs": [
        {
          "output_type": "stream",
          "name": "stdout",
          "text": [
            "El salario medio para los Executive-level / Director en el 2020 fue de 179958 dólares\n",
            "El salario medio para los Executive-level / Director en el 2021 fue de 186128 dólares\n",
            "El salario medio para los Executive-level / Director en el 2022 fue de 188260 dólares\n",
            "El salario medio para los Executive-level / Director en el 2023 fue de 191314 dólares\n",
            "El salario medio para los Executive-level / Director en el 2024 fue de 205915 dólares\n"
          ]
        }
      ]
    },
    {
      "cell_type": "markdown",
      "source": [
        "Como podemos ver, ya tenemos los salarios medios anuales para cada posición. Sin embargo, esta no es la mejor manera para presentar la información, y no resulta tan atractiva visualmente. Por lo que trataremos de mejorar esto con gráficas de Seaborn y Matplotlib.\n",
        "\n",
        "Para ello crearemos un Dataframe a partir de las listas de tuplas generadas"
      ],
      "metadata": {
        "id": "y0monYro1Ys8"
      }
    },
    {
      "cell_type": "code",
      "source": [
        "# Formateo de los datos a ingresar en el Dataframe\n",
        "total_yearly = {'year': [2020, 2021, 2022, 2023, 2024], 'avg_MI': [yearly_MI[0][1], yearly_MI[1][1], yearly_MI[2][1], yearly_MI[3][1], yearly_MI[4][1]], 'avg_SE': [yearly_SE[0][1], yearly_SE[1][1], yearly_SE[2][1], yearly_SE[3][1], yearly_SE[4][1]], 'avg_EN': [yearly_EN[0][1], yearly_EN[1][1], yearly_EN[2][1], yearly_EN[3][1], yearly_EN[4][1]], 'avg_EX': [yearly_EX[0][1], yearly_EX[1][1], yearly_EX[2][1], yearly_EX[3][1], yearly_EX[4][1]]}\n",
        "\n",
        "# Creación de un DataFrame a partir de los datos de la media salarial anual\n",
        "total_yearly_df = pd.DataFrame(total_yearly)\n",
        "\n",
        "# Reasignación de los años como el índice del DataFrame\n",
        "total_yearly_df = total_yearly_df.set_index('year')\n",
        "\n",
        "# Impresión del DataFrame resultante\n",
        "total_yearly_df"
      ],
      "metadata": {
        "colab": {
          "base_uri": "https://localhost:8080/",
          "height": 238
        },
        "id": "CRAFggv82QVV",
        "outputId": "6b1f5605-ee07-46dd-d962-d4f86eda1492"
      },
      "execution_count": null,
      "outputs": [
        {
          "output_type": "execute_result",
          "data": {
            "text/plain": [
              "      avg_MI  avg_SE  avg_EN  avg_EX\n",
              "year                                \n",
              "2020   91870  138648   69840  179958\n",
              "2021   86818  125989   63463  186128\n",
              "2022  102745  147903   80018  188260\n",
              "2023  123821  165421   91166  191314\n",
              "2024  138620  169466   98199  205915"
            ],
            "text/html": [
              "\n",
              "  <div id=\"df-66958397-5b86-4ed2-8d16-ad0b82a24417\" class=\"colab-df-container\">\n",
              "    <div>\n",
              "<style scoped>\n",
              "    .dataframe tbody tr th:only-of-type {\n",
              "        vertical-align: middle;\n",
              "    }\n",
              "\n",
              "    .dataframe tbody tr th {\n",
              "        vertical-align: top;\n",
              "    }\n",
              "\n",
              "    .dataframe thead th {\n",
              "        text-align: right;\n",
              "    }\n",
              "</style>\n",
              "<table border=\"1\" class=\"dataframe\">\n",
              "  <thead>\n",
              "    <tr style=\"text-align: right;\">\n",
              "      <th></th>\n",
              "      <th>avg_MI</th>\n",
              "      <th>avg_SE</th>\n",
              "      <th>avg_EN</th>\n",
              "      <th>avg_EX</th>\n",
              "    </tr>\n",
              "    <tr>\n",
              "      <th>year</th>\n",
              "      <th></th>\n",
              "      <th></th>\n",
              "      <th></th>\n",
              "      <th></th>\n",
              "    </tr>\n",
              "  </thead>\n",
              "  <tbody>\n",
              "    <tr>\n",
              "      <th>2020</th>\n",
              "      <td>91870</td>\n",
              "      <td>138648</td>\n",
              "      <td>69840</td>\n",
              "      <td>179958</td>\n",
              "    </tr>\n",
              "    <tr>\n",
              "      <th>2021</th>\n",
              "      <td>86818</td>\n",
              "      <td>125989</td>\n",
              "      <td>63463</td>\n",
              "      <td>186128</td>\n",
              "    </tr>\n",
              "    <tr>\n",
              "      <th>2022</th>\n",
              "      <td>102745</td>\n",
              "      <td>147903</td>\n",
              "      <td>80018</td>\n",
              "      <td>188260</td>\n",
              "    </tr>\n",
              "    <tr>\n",
              "      <th>2023</th>\n",
              "      <td>123821</td>\n",
              "      <td>165421</td>\n",
              "      <td>91166</td>\n",
              "      <td>191314</td>\n",
              "    </tr>\n",
              "    <tr>\n",
              "      <th>2024</th>\n",
              "      <td>138620</td>\n",
              "      <td>169466</td>\n",
              "      <td>98199</td>\n",
              "      <td>205915</td>\n",
              "    </tr>\n",
              "  </tbody>\n",
              "</table>\n",
              "</div>\n",
              "    <div class=\"colab-df-buttons\">\n",
              "\n",
              "  <div class=\"colab-df-container\">\n",
              "    <button class=\"colab-df-convert\" onclick=\"convertToInteractive('df-66958397-5b86-4ed2-8d16-ad0b82a24417')\"\n",
              "            title=\"Convert this dataframe to an interactive table.\"\n",
              "            style=\"display:none;\">\n",
              "\n",
              "  <svg xmlns=\"http://www.w3.org/2000/svg\" height=\"24px\" viewBox=\"0 -960 960 960\">\n",
              "    <path d=\"M120-120v-720h720v720H120Zm60-500h600v-160H180v160Zm220 220h160v-160H400v160Zm0 220h160v-160H400v160ZM180-400h160v-160H180v160Zm440 0h160v-160H620v160ZM180-180h160v-160H180v160Zm440 0h160v-160H620v160Z\"/>\n",
              "  </svg>\n",
              "    </button>\n",
              "\n",
              "  <style>\n",
              "    .colab-df-container {\n",
              "      display:flex;\n",
              "      gap: 12px;\n",
              "    }\n",
              "\n",
              "    .colab-df-convert {\n",
              "      background-color: #E8F0FE;\n",
              "      border: none;\n",
              "      border-radius: 50%;\n",
              "      cursor: pointer;\n",
              "      display: none;\n",
              "      fill: #1967D2;\n",
              "      height: 32px;\n",
              "      padding: 0 0 0 0;\n",
              "      width: 32px;\n",
              "    }\n",
              "\n",
              "    .colab-df-convert:hover {\n",
              "      background-color: #E2EBFA;\n",
              "      box-shadow: 0px 1px 2px rgba(60, 64, 67, 0.3), 0px 1px 3px 1px rgba(60, 64, 67, 0.15);\n",
              "      fill: #174EA6;\n",
              "    }\n",
              "\n",
              "    .colab-df-buttons div {\n",
              "      margin-bottom: 4px;\n",
              "    }\n",
              "\n",
              "    [theme=dark] .colab-df-convert {\n",
              "      background-color: #3B4455;\n",
              "      fill: #D2E3FC;\n",
              "    }\n",
              "\n",
              "    [theme=dark] .colab-df-convert:hover {\n",
              "      background-color: #434B5C;\n",
              "      box-shadow: 0px 1px 3px 1px rgba(0, 0, 0, 0.15);\n",
              "      filter: drop-shadow(0px 1px 2px rgba(0, 0, 0, 0.3));\n",
              "      fill: #FFFFFF;\n",
              "    }\n",
              "  </style>\n",
              "\n",
              "    <script>\n",
              "      const buttonEl =\n",
              "        document.querySelector('#df-66958397-5b86-4ed2-8d16-ad0b82a24417 button.colab-df-convert');\n",
              "      buttonEl.style.display =\n",
              "        google.colab.kernel.accessAllowed ? 'block' : 'none';\n",
              "\n",
              "      async function convertToInteractive(key) {\n",
              "        const element = document.querySelector('#df-66958397-5b86-4ed2-8d16-ad0b82a24417');\n",
              "        const dataTable =\n",
              "          await google.colab.kernel.invokeFunction('convertToInteractive',\n",
              "                                                    [key], {});\n",
              "        if (!dataTable) return;\n",
              "\n",
              "        const docLinkHtml = 'Like what you see? Visit the ' +\n",
              "          '<a target=\"_blank\" href=https://colab.research.google.com/notebooks/data_table.ipynb>data table notebook</a>'\n",
              "          + ' to learn more about interactive tables.';\n",
              "        element.innerHTML = '';\n",
              "        dataTable['output_type'] = 'display_data';\n",
              "        await google.colab.output.renderOutput(dataTable, element);\n",
              "        const docLink = document.createElement('div');\n",
              "        docLink.innerHTML = docLinkHtml;\n",
              "        element.appendChild(docLink);\n",
              "      }\n",
              "    </script>\n",
              "  </div>\n",
              "\n",
              "\n",
              "<div id=\"df-c12165c7-811c-470d-b396-d4f6d142e657\">\n",
              "  <button class=\"colab-df-quickchart\" onclick=\"quickchart('df-c12165c7-811c-470d-b396-d4f6d142e657')\"\n",
              "            title=\"Suggest charts\"\n",
              "            style=\"display:none;\">\n",
              "\n",
              "<svg xmlns=\"http://www.w3.org/2000/svg\" height=\"24px\"viewBox=\"0 0 24 24\"\n",
              "     width=\"24px\">\n",
              "    <g>\n",
              "        <path d=\"M19 3H5c-1.1 0-2 .9-2 2v14c0 1.1.9 2 2 2h14c1.1 0 2-.9 2-2V5c0-1.1-.9-2-2-2zM9 17H7v-7h2v7zm4 0h-2V7h2v10zm4 0h-2v-4h2v4z\"/>\n",
              "    </g>\n",
              "</svg>\n",
              "  </button>\n",
              "\n",
              "<style>\n",
              "  .colab-df-quickchart {\n",
              "      --bg-color: #E8F0FE;\n",
              "      --fill-color: #1967D2;\n",
              "      --hover-bg-color: #E2EBFA;\n",
              "      --hover-fill-color: #174EA6;\n",
              "      --disabled-fill-color: #AAA;\n",
              "      --disabled-bg-color: #DDD;\n",
              "  }\n",
              "\n",
              "  [theme=dark] .colab-df-quickchart {\n",
              "      --bg-color: #3B4455;\n",
              "      --fill-color: #D2E3FC;\n",
              "      --hover-bg-color: #434B5C;\n",
              "      --hover-fill-color: #FFFFFF;\n",
              "      --disabled-bg-color: #3B4455;\n",
              "      --disabled-fill-color: #666;\n",
              "  }\n",
              "\n",
              "  .colab-df-quickchart {\n",
              "    background-color: var(--bg-color);\n",
              "    border: none;\n",
              "    border-radius: 50%;\n",
              "    cursor: pointer;\n",
              "    display: none;\n",
              "    fill: var(--fill-color);\n",
              "    height: 32px;\n",
              "    padding: 0;\n",
              "    width: 32px;\n",
              "  }\n",
              "\n",
              "  .colab-df-quickchart:hover {\n",
              "    background-color: var(--hover-bg-color);\n",
              "    box-shadow: 0 1px 2px rgba(60, 64, 67, 0.3), 0 1px 3px 1px rgba(60, 64, 67, 0.15);\n",
              "    fill: var(--button-hover-fill-color);\n",
              "  }\n",
              "\n",
              "  .colab-df-quickchart-complete:disabled,\n",
              "  .colab-df-quickchart-complete:disabled:hover {\n",
              "    background-color: var(--disabled-bg-color);\n",
              "    fill: var(--disabled-fill-color);\n",
              "    box-shadow: none;\n",
              "  }\n",
              "\n",
              "  .colab-df-spinner {\n",
              "    border: 2px solid var(--fill-color);\n",
              "    border-color: transparent;\n",
              "    border-bottom-color: var(--fill-color);\n",
              "    animation:\n",
              "      spin 1s steps(1) infinite;\n",
              "  }\n",
              "\n",
              "  @keyframes spin {\n",
              "    0% {\n",
              "      border-color: transparent;\n",
              "      border-bottom-color: var(--fill-color);\n",
              "      border-left-color: var(--fill-color);\n",
              "    }\n",
              "    20% {\n",
              "      border-color: transparent;\n",
              "      border-left-color: var(--fill-color);\n",
              "      border-top-color: var(--fill-color);\n",
              "    }\n",
              "    30% {\n",
              "      border-color: transparent;\n",
              "      border-left-color: var(--fill-color);\n",
              "      border-top-color: var(--fill-color);\n",
              "      border-right-color: var(--fill-color);\n",
              "    }\n",
              "    40% {\n",
              "      border-color: transparent;\n",
              "      border-right-color: var(--fill-color);\n",
              "      border-top-color: var(--fill-color);\n",
              "    }\n",
              "    60% {\n",
              "      border-color: transparent;\n",
              "      border-right-color: var(--fill-color);\n",
              "    }\n",
              "    80% {\n",
              "      border-color: transparent;\n",
              "      border-right-color: var(--fill-color);\n",
              "      border-bottom-color: var(--fill-color);\n",
              "    }\n",
              "    90% {\n",
              "      border-color: transparent;\n",
              "      border-bottom-color: var(--fill-color);\n",
              "    }\n",
              "  }\n",
              "</style>\n",
              "\n",
              "  <script>\n",
              "    async function quickchart(key) {\n",
              "      const quickchartButtonEl =\n",
              "        document.querySelector('#' + key + ' button');\n",
              "      quickchartButtonEl.disabled = true;  // To prevent multiple clicks.\n",
              "      quickchartButtonEl.classList.add('colab-df-spinner');\n",
              "      try {\n",
              "        const charts = await google.colab.kernel.invokeFunction(\n",
              "            'suggestCharts', [key], {});\n",
              "      } catch (error) {\n",
              "        console.error('Error during call to suggestCharts:', error);\n",
              "      }\n",
              "      quickchartButtonEl.classList.remove('colab-df-spinner');\n",
              "      quickchartButtonEl.classList.add('colab-df-quickchart-complete');\n",
              "    }\n",
              "    (() => {\n",
              "      let quickchartButtonEl =\n",
              "        document.querySelector('#df-c12165c7-811c-470d-b396-d4f6d142e657 button');\n",
              "      quickchartButtonEl.style.display =\n",
              "        google.colab.kernel.accessAllowed ? 'block' : 'none';\n",
              "    })();\n",
              "  </script>\n",
              "</div>\n",
              "    </div>\n",
              "  </div>\n"
            ],
            "application/vnd.google.colaboratory.intrinsic+json": {
              "type": "dataframe",
              "variable_name": "total_yearly_df",
              "summary": "{\n  \"name\": \"total_yearly_df\",\n  \"rows\": 5,\n  \"fields\": [\n    {\n      \"column\": \"year\",\n      \"properties\": {\n        \"dtype\": \"number\",\n        \"std\": 1,\n        \"min\": 2020,\n        \"max\": 2024,\n        \"num_unique_values\": 5,\n        \"samples\": [\n          2021,\n          2024,\n          2022\n        ],\n        \"semantic_type\": \"\",\n        \"description\": \"\"\n      }\n    },\n    {\n      \"column\": \"avg_MI\",\n      \"properties\": {\n        \"dtype\": \"number\",\n        \"std\": 21916,\n        \"min\": 86818,\n        \"max\": 138620,\n        \"num_unique_values\": 5,\n        \"samples\": [\n          86818,\n          138620,\n          102745\n        ],\n        \"semantic_type\": \"\",\n        \"description\": \"\"\n      }\n    },\n    {\n      \"column\": \"avg_SE\",\n      \"properties\": {\n        \"dtype\": \"number\",\n        \"std\": 18201,\n        \"min\": 125989,\n        \"max\": 169466,\n        \"num_unique_values\": 5,\n        \"samples\": [\n          125989,\n          169466,\n          147903\n        ],\n        \"semantic_type\": \"\",\n        \"description\": \"\"\n      }\n    },\n    {\n      \"column\": \"avg_EN\",\n      \"properties\": {\n        \"dtype\": \"number\",\n        \"std\": 14414,\n        \"min\": 63463,\n        \"max\": 98199,\n        \"num_unique_values\": 5,\n        \"samples\": [\n          63463,\n          98199,\n          80018\n        ],\n        \"semantic_type\": \"\",\n        \"description\": \"\"\n      }\n    },\n    {\n      \"column\": \"avg_EX\",\n      \"properties\": {\n        \"dtype\": \"number\",\n        \"std\": 9661,\n        \"min\": 179958,\n        \"max\": 205915,\n        \"num_unique_values\": 5,\n        \"samples\": [\n          186128,\n          205915,\n          188260\n        ],\n        \"semantic_type\": \"\",\n        \"description\": \"\"\n      }\n    }\n  ]\n}"
            }
          },
          "metadata": {},
          "execution_count": 202
        }
      ]
    },
    {
      "cell_type": "markdown",
      "source": [
        "Ahora que tenemos un nuevo DataFrame con la información que necesitamos es más fácil trabajar la información para obtener las gráficas"
      ],
      "metadata": {
        "id": "E6g5bC7BHPQB"
      }
    },
    {
      "cell_type": "code",
      "source": [
        "# Inicialización de los plots\n",
        "fig, ax = plt.subplots()\n",
        "\n",
        "# Creación del gráfica de líneas con 4 líneas, una por cada columna\n",
        "sns.lineplot(data=total_yearly_df[['avg_MI', 'avg_SE', 'avg_EN', 'avg_EX']], ax=ax)\n",
        "\n",
        "# Configuración de las leyendas del eje X para mostrar el año correspondiente\n",
        "ax.set_xlim(2020,2024)\n",
        "ax.set_xticks(range(2020,2025))\n",
        "\n",
        "# Asignación de las etiquetas de los ejes X y Y respectivamente\n",
        "plt.xlabel(\"Año\")\n",
        "plt.ylabel('Salario')\n",
        "\n",
        "# Impresión del gráfico resultante\n",
        "plt.show()"
      ],
      "metadata": {
        "colab": {
          "base_uri": "https://localhost:8080/",
          "height": 449
        },
        "id": "gg7V6MpTHW9W",
        "outputId": "14c50d4a-5248-4b64-e3d4-815227862502"
      },
      "execution_count": null,
      "outputs": [
        {
          "output_type": "display_data",
          "data": {
            "text/plain": [
              "<Figure size 640x480 with 1 Axes>"
            ],
            "image/png": "[encoded data removed]"
          },
          "metadata": {}
        }
      ]
    },
    {
      "cell_type": "markdown",
      "source": [
        "Como podemos ver, los salarios de la mayoría de los trbajadores de la industria disminuyeron un poco en 2021. Quizás por la caída en la alta demanda de programadores que había en 2020 derivado de la pandemia.\n",
        "\n",
        "A partir de 2022 podemos ver que el incremento salarial generalizado regresó y se ha manteido de forma sostenida desde entonces."
      ],
      "metadata": {
        "id": "Cy3DD9TJ1Qv0"
      }
    },
    {
      "cell_type": "markdown",
      "source": [
        "Ahora analizaremos los cuartiles de los salarios de todos los años de cada nivel de experiencia con la herramienta \"boxplot\" o de gráfico de bigotes"
      ],
      "metadata": {
        "id": "A8XJ0i3N23kF"
      }
    },
    {
      "cell_type": "code",
      "source": [
        "sns.boxplot(data=salaries_df[salaries_df['experience_level']=='MI']['salary_in_usd'])"
      ],
      "metadata": {
        "colab": {
          "base_uri": "https://localhost:8080/",
          "height": 429
        },
        "id": "Kw0Y9CCw1Qdo",
        "outputId": "463a165d-ed3e-4662-a906-35753d95f1d1"
      },
      "execution_count": null,
      "outputs": [
        {
          "output_type": "execute_result",
          "data": {
            "text/plain": [
              "<Axes: ylabel='salary_in_usd'>"
            ]
          },
          "metadata": {},
          "execution_count": 204
        },
        {
          "output_type": "display_data",
          "data": {
            "text/plain": [
              "<Figure size 640x480 with 1 Axes>"
            ],
            "image/png": "[encoded data removed]"
          },
          "metadata": {}
        }
      ]
    },
    {
      "cell_type": "markdown",
      "source": [
        "El boxplot nos generea en donde se encuentran cada cuartil salarial para los Mid-level / Intermediate.\n",
        "\n",
        "Como podemos ver, la media salarial se encuentra ligeramente arriba de los 100,000 dólares, y el 25 % de personas con los mayores salarios en este nivel ganan entre 150,000 y 250,000 dólares. Sin embargo, podmos ver que hay personas que ganan hasta 800,000 dólares! 🤑\n",
        "\n",
        "Vamos a ver quienes son las 10 personas que más ganan filtrando el Dataframe"
      ],
      "metadata": {
        "id": "OxxpiCxU5Ocb"
      }
    },
    {
      "cell_type": "code",
      "source": [
        "salaries_df[salaries_df['experience_level']=='MI'].sort_values(by=['salary_in_usd'], ascending=False).head(10)"
      ],
      "metadata": {
        "colab": {
          "base_uri": "https://localhost:8080/",
          "height": 609
        },
        "id": "P1OTN7qO4IlK",
        "outputId": "052d8e2c-7485-4baf-a66c-e00b7e8e5c50"
      },
      "execution_count": null,
      "outputs": [
        {
          "output_type": "execute_result",
          "data": {
            "text/plain": [
              "      work_year experience_level employment_type                   job_title  \\\n",
              "4326       2024               MI              FT                AI Architect   \n",
              "6144       2024               MI              FT  Machine Learning Scientist   \n",
              "7934       2023               MI              FT   Machine Learning Engineer   \n",
              "7928       2023               MI              FT  Machine Learning Scientist   \n",
              "7330       2024               MI              FT  Machine Learning Scientist   \n",
              "8912       2023               MI              FT               Data Engineer   \n",
              "7374       2024               MI              FT           Research Engineer   \n",
              "5177       2024               MI              FT          Analytics Engineer   \n",
              "7360       2024               MI              FT           Research Engineer   \n",
              "7370       2024               MI              FT          Research Scientist   \n",
              "\n",
              "      salary salary_currency  salary_in_usd employee_residence  remote_ratio  \\\n",
              "4326  800000             USD         800000                 CA           100   \n",
              "6144  750000             USD         750000                 US             0   \n",
              "7934  750000             USD         750000                 US             0   \n",
              "7928  750000             USD         750000                 US             0   \n",
              "7330  750000             USD         750000                 US             0   \n",
              "8912  750000             USD         750000                 US             0   \n",
              "7374  720000             USD         720000                 US             0   \n",
              "5177  720000             USD         720000                 US             0   \n",
              "7360  720000             USD         720000                 US             0   \n",
              "7370  720000             USD         720000                 US             0   \n",
              "\n",
              "     company_location company_size  \n",
              "4326               CA            M  \n",
              "6144               US            M  \n",
              "7934               US            M  \n",
              "7928               US            M  \n",
              "7330               US            M  \n",
              "8912               US            M  \n",
              "7374               US            M  \n",
              "5177               US            M  \n",
              "7360               US            M  \n",
              "7370               US            M  "
            ],
            "text/html": [
              "\n",
              "  <div id=\"df-07c4cc40-a0f5-4734-8c8f-3c52da02832b\" class=\"colab-df-container\">\n",
              "    <div>\n",
              "<style scoped>\n",
              "    .dataframe tbody tr th:only-of-type {\n",
              "        vertical-align: middle;\n",
              "    }\n",
              "\n",
              "    .dataframe tbody tr th {\n",
              "        vertical-align: top;\n",
              "    }\n",
              "\n",
              "    .dataframe thead th {\n",
              "        text-align: right;\n",
              "    }\n",
              "</style>\n",
              "<table border=\"1\" class=\"dataframe\">\n",
              "  <thead>\n",
              "    <tr style=\"text-align: right;\">\n",
              "      <th></th>\n",
              "      <th>work_year</th>\n",
              "      <th>experience_level</th>\n",
              "      <th>employment_type</th>\n",
              "      <th>job_title</th>\n",
              "      <th>salary</th>\n",
              "      <th>salary_currency</th>\n",
              "      <th>salary_in_usd</th>\n",
              "      <th>employee_residence</th>\n",
              "      <th>remote_ratio</th>\n",
              "      <th>company_location</th>\n",
              "      <th>company_size</th>\n",
              "    </tr>\n",
              "  </thead>\n",
              "  <tbody>\n",
              "    <tr>\n",
              "      <th>4326</th>\n",
              "      <td>2024</td>\n",
              "      <td>MI</td>\n",
              "      <td>FT</td>\n",
              "      <td>AI Architect</td>\n",
              "      <td>800000</td>\n",
              "      <td>USD</td>\n",
              "      <td>800000</td>\n",
              "      <td>CA</td>\n",
              "      <td>100</td>\n",
              "      <td>CA</td>\n",
              "      <td>M</td>\n",
              "    </tr>\n",
              "    <tr>\n",
              "      <th>6144</th>\n",
              "      <td>2024</td>\n",
              "      <td>MI</td>\n",
              "      <td>FT</td>\n",
              "      <td>Machine Learning Scientist</td>\n",
              "      <td>750000</td>\n",
              "      <td>USD</td>\n",
              "      <td>750000</td>\n",
              "      <td>US</td>\n",
              "      <td>0</td>\n",
              "      <td>US</td>\n",
              "      <td>M</td>\n",
              "    </tr>\n",
              "    <tr>\n",
              "      <th>7934</th>\n",
              "      <td>2023</td>\n",
              "      <td>MI</td>\n",
              "      <td>FT</td>\n",
              "      <td>Machine Learning Engineer</td>\n",
              "      <td>750000</td>\n",
              "      <td>USD</td>\n",
              "      <td>750000</td>\n",
              "      <td>US</td>\n",
              "      <td>0</td>\n",
              "      <td>US</td>\n",
              "      <td>M</td>\n",
              "    </tr>\n",
              "    <tr>\n",
              "      <th>7928</th>\n",
              "      <td>2023</td>\n",
              "      <td>MI</td>\n",
              "      <td>FT</td>\n",
              "      <td>Machine Learning Scientist</td>\n",
              "      <td>750000</td>\n",
              "      <td>USD</td>\n",
              "      <td>750000</td>\n",
              "      <td>US</td>\n",
              "      <td>0</td>\n",
              "      <td>US</td>\n",
              "      <td>M</td>\n",
              "    </tr>\n",
              "    <tr>\n",
              "      <th>7330</th>\n",
              "      <td>2024</td>\n",
              "      <td>MI</td>\n",
              "      <td>FT</td>\n",
              "      <td>Machine Learning Scientist</td>\n",
              "      <td>750000</td>\n",
              "      <td>USD</td>\n",
              "      <td>750000</td>\n",
              "      <td>US</td>\n",
              "      <td>0</td>\n",
              "      <td>US</td>\n",
              "      <td>M</td>\n",
              "    </tr>\n",
              "    <tr>\n",
              "      <th>8912</th>\n",
              "      <td>2023</td>\n",
              "      <td>MI</td>\n",
              "      <td>FT</td>\n",
              "      <td>Data Engineer</td>\n",
              "      <td>750000</td>\n",
              "      <td>USD</td>\n",
              "      <td>750000</td>\n",
              "      <td>US</td>\n",
              "      <td>0</td>\n",
              "      <td>US</td>\n",
              "      <td>M</td>\n",
              "    </tr>\n",
              "    <tr>\n",
              "      <th>7374</th>\n",
              "      <td>2024</td>\n",
              "      <td>MI</td>\n",
              "      <td>FT</td>\n",
              "      <td>Research Engineer</td>\n",
              "      <td>720000</td>\n",
              "      <td>USD</td>\n",
              "      <td>720000</td>\n",
              "      <td>US</td>\n",
              "      <td>0</td>\n",
              "      <td>US</td>\n",
              "      <td>M</td>\n",
              "    </tr>\n",
              "    <tr>\n",
              "      <th>5177</th>\n",
              "      <td>2024</td>\n",
              "      <td>MI</td>\n",
              "      <td>FT</td>\n",
              "      <td>Analytics Engineer</td>\n",
              "      <td>720000</td>\n",
              "      <td>USD</td>\n",
              "      <td>720000</td>\n",
              "      <td>US</td>\n",
              "      <td>0</td>\n",
              "      <td>US</td>\n",
              "      <td>M</td>\n",
              "    </tr>\n",
              "    <tr>\n",
              "      <th>7360</th>\n",
              "      <td>2024</td>\n",
              "      <td>MI</td>\n",
              "      <td>FT</td>\n",
              "      <td>Research Engineer</td>\n",
              "      <td>720000</td>\n",
              "      <td>USD</td>\n",
              "      <td>720000</td>\n",
              "      <td>US</td>\n",
              "      <td>0</td>\n",
              "      <td>US</td>\n",
              "      <td>M</td>\n",
              "    </tr>\n",
              "    <tr>\n",
              "      <th>7370</th>\n",
              "      <td>2024</td>\n",
              "      <td>MI</td>\n",
              "      <td>FT</td>\n",
              "      <td>Research Scientist</td>\n",
              "      <td>720000</td>\n",
              "      <td>USD</td>\n",
              "      <td>720000</td>\n",
              "      <td>US</td>\n",
              "      <td>0</td>\n",
              "      <td>US</td>\n",
              "      <td>M</td>\n",
              "    </tr>\n",
              "  </tbody>\n",
              "</table>\n",
              "</div>\n",
              "    <div class=\"colab-df-buttons\">\n",
              "\n",
              "  <div class=\"colab-df-container\">\n",
              "    <button class=\"colab-df-convert\" onclick=\"convertToInteractive('df-07c4cc40-a0f5-4734-8c8f-3c52da02832b')\"\n",
              "            title=\"Convert this dataframe to an interactive table.\"\n",
              "            style=\"display:none;\">\n",
              "\n",
              "  <svg xmlns=\"http://www.w3.org/2000/svg\" height=\"24px\" viewBox=\"0 -960 960 960\">\n",
              "    <path d=\"M120-120v-720h720v720H120Zm60-500h600v-160H180v160Zm220 220h160v-160H400v160Zm0 220h160v-160H400v160ZM180-400h160v-160H180v160Zm440 0h160v-160H620v160ZM180-180h160v-160H180v160Zm440 0h160v-160H620v160Z\"/>\n",
              "  </svg>\n",
              "    </button>\n",
              "\n",
              "  <style>\n",
              "    .colab-df-container {\n",
              "      display:flex;\n",
              "      gap: 12px;\n",
              "    }\n",
              "\n",
              "    .colab-df-convert {\n",
              "      background-color: #E8F0FE;\n",
              "      border: none;\n",
              "      border-radius: 50%;\n",
              "      cursor: pointer;\n",
              "      display: none;\n",
              "      fill: #1967D2;\n",
              "      height: 32px;\n",
              "      padding: 0 0 0 0;\n",
              "      width: 32px;\n",
              "    }\n",
              "\n",
              "    .colab-df-convert:hover {\n",
              "      background-color: #E2EBFA;\n",
              "      box-shadow: 0px 1px 2px rgba(60, 64, 67, 0.3), 0px 1px 3px 1px rgba(60, 64, 67, 0.15);\n",
              "      fill: #174EA6;\n",
              "    }\n",
              "\n",
              "    .colab-df-buttons div {\n",
              "      margin-bottom: 4px;\n",
              "    }\n",
              "\n",
              "    [theme=dark] .colab-df-convert {\n",
              "      background-color: #3B4455;\n",
              "      fill: #D2E3FC;\n",
              "    }\n",
              "\n",
              "    [theme=dark] .colab-df-convert:hover {\n",
              "      background-color: #434B5C;\n",
              "      box-shadow: 0px 1px 3px 1px rgba(0, 0, 0, 0.15);\n",
              "      filter: drop-shadow(0px 1px 2px rgba(0, 0, 0, 0.3));\n",
              "      fill: #FFFFFF;\n",
              "    }\n",
              "  </style>\n",
              "\n",
              "    <script>\n",
              "      const buttonEl =\n",
              "        document.querySelector('#df-07c4cc40-a0f5-4734-8c8f-3c52da02832b button.colab-df-convert');\n",
              "      buttonEl.style.display =\n",
              "        google.colab.kernel.accessAllowed ? 'block' : 'none';\n",
              "\n",
              "      async function convertToInteractive(key) {\n",
              "        const element = document.querySelector('#df-07c4cc40-a0f5-4734-8c8f-3c52da02832b');\n",
              "        const dataTable =\n",
              "          await google.colab.kernel.invokeFunction('convertToInteractive',\n",
              "                                                    [key], {});\n",
              "        if (!dataTable) return;\n",
              "\n",
              "        const docLinkHtml = 'Like what you see? Visit the ' +\n",
              "          '<a target=\"_blank\" href=https://colab.research.google.com/notebooks/data_table.ipynb>data table notebook</a>'\n",
              "          + ' to learn more about interactive tables.';\n",
              "        element.innerHTML = '';\n",
              "        dataTable['output_type'] = 'display_data';\n",
              "        await google.colab.output.renderOutput(dataTable, element);\n",
              "        const docLink = document.createElement('div');\n",
              "        docLink.innerHTML = docLinkHtml;\n",
              "        element.appendChild(docLink);\n",
              "      }\n",
              "    </script>\n",
              "  </div>\n",
              "\n",
              "\n",
              "<div id=\"df-4c10232b-1cba-4903-af3b-817517666441\">\n",
              "  <button class=\"colab-df-quickchart\" onclick=\"quickchart('df-4c10232b-1cba-4903-af3b-817517666441')\"\n",
              "            title=\"Suggest charts\"\n",
              "            style=\"display:none;\">\n",
              "\n",
              "<svg xmlns=\"http://www.w3.org/2000/svg\" height=\"24px\"viewBox=\"0 0 24 24\"\n",
              "     width=\"24px\">\n",
              "    <g>\n",
              "        <path d=\"M19 3H5c-1.1 0-2 .9-2 2v14c0 1.1.9 2 2 2h14c1.1 0 2-.9 2-2V5c0-1.1-.9-2-2-2zM9 17H7v-7h2v7zm4 0h-2V7h2v10zm4 0h-2v-4h2v4z\"/>\n",
              "    </g>\n",
              "</svg>\n",
              "  </button>\n",
              "\n",
              "<style>\n",
              "  .colab-df-quickchart {\n",
              "      --bg-color: #E8F0FE;\n",
              "      --fill-color: #1967D2;\n",
              "      --hover-bg-color: #E2EBFA;\n",
              "      --hover-fill-color: #174EA6;\n",
              "      --disabled-fill-color: #AAA;\n",
              "      --disabled-bg-color: #DDD;\n",
              "  }\n",
              "\n",
              "  [theme=dark] .colab-df-quickchart {\n",
              "      --bg-color: #3B4455;\n",
              "      --fill-color: #D2E3FC;\n",
              "      --hover-bg-color: #434B5C;\n",
              "      --hover-fill-color: #FFFFFF;\n",
              "      --disabled-bg-color: #3B4455;\n",
              "      --disabled-fill-color: #666;\n",
              "  }\n",
              "\n",
              "  .colab-df-quickchart {\n",
              "    background-color: var(--bg-color);\n",
              "    border: none;\n",
              "    border-radius: 50%;\n",
              "    cursor: pointer;\n",
              "    display: none;\n",
              "    fill: var(--fill-color);\n",
              "    height: 32px;\n",
              "    padding: 0;\n",
              "    width: 32px;\n",
              "  }\n",
              "\n",
              "  .colab-df-quickchart:hover {\n",
              "    background-color: var(--hover-bg-color);\n",
              "    box-shadow: 0 1px 2px rgba(60, 64, 67, 0.3), 0 1px 3px 1px rgba(60, 64, 67, 0.15);\n",
              "    fill: var(--button-hover-fill-color);\n",
              "  }\n",
              "\n",
              "  .colab-df-quickchart-complete:disabled,\n",
              "  .colab-df-quickchart-complete:disabled:hover {\n",
              "    background-color: var(--disabled-bg-color);\n",
              "    fill: var(--disabled-fill-color);\n",
              "    box-shadow: none;\n",
              "  }\n",
              "\n",
              "  .colab-df-spinner {\n",
              "    border: 2px solid var(--fill-color);\n",
              "    border-color: transparent;\n",
              "    border-bottom-color: var(--fill-color);\n",
              "    animation:\n",
              "      spin 1s steps(1) infinite;\n",
              "  }\n",
              "\n",
              "  @keyframes spin {\n",
              "    0% {\n",
              "      border-color: transparent;\n",
              "      border-bottom-color: var(--fill-color);\n",
              "      border-left-color: var(--fill-color);\n",
              "    }\n",
              "    20% {\n",
              "      border-color: transparent;\n",
              "      border-left-color: var(--fill-color);\n",
              "      border-top-color: var(--fill-color);\n",
              "    }\n",
              "    30% {\n",
              "      border-color: transparent;\n",
              "      border-left-color: var(--fill-color);\n",
              "      border-top-color: var(--fill-color);\n",
              "      border-right-color: var(--fill-color);\n",
              "    }\n",
              "    40% {\n",
              "      border-color: transparent;\n",
              "      border-right-color: var(--fill-color);\n",
              "      border-top-color: var(--fill-color);\n",
              "    }\n",
              "    60% {\n",
              "      border-color: transparent;\n",
              "      border-right-color: var(--fill-color);\n",
              "    }\n",
              "    80% {\n",
              "      border-color: transparent;\n",
              "      border-right-color: var(--fill-color);\n",
              "      border-bottom-color: var(--fill-color);\n",
              "    }\n",
              "    90% {\n",
              "      border-color: transparent;\n",
              "      border-bottom-color: var(--fill-color);\n",
              "    }\n",
              "  }\n",
              "</style>\n",
              "\n",
              "  <script>\n",
              "    async function quickchart(key) {\n",
              "      const quickchartButtonEl =\n",
              "        document.querySelector('#' + key + ' button');\n",
              "      quickchartButtonEl.disabled = true;  // To prevent multiple clicks.\n",
              "      quickchartButtonEl.classList.add('colab-df-spinner');\n",
              "      try {\n",
              "        const charts = await google.colab.kernel.invokeFunction(\n",
              "            'suggestCharts', [key], {});\n",
              "      } catch (error) {\n",
              "        console.error('Error during call to suggestCharts:', error);\n",
              "      }\n",
              "      quickchartButtonEl.classList.remove('colab-df-spinner');\n",
              "      quickchartButtonEl.classList.add('colab-df-quickchart-complete');\n",
              "    }\n",
              "    (() => {\n",
              "      let quickchartButtonEl =\n",
              "        document.querySelector('#df-4c10232b-1cba-4903-af3b-817517666441 button');\n",
              "      quickchartButtonEl.style.display =\n",
              "        google.colab.kernel.accessAllowed ? 'block' : 'none';\n",
              "    })();\n",
              "  </script>\n",
              "</div>\n",
              "    </div>\n",
              "  </div>\n"
            ],
            "application/vnd.google.colaboratory.intrinsic+json": {
              "type": "dataframe",
              "summary": "{\n  \"name\": \"salaries_df[salaries_df['experience_level']=='MI']\",\n  \"rows\": 10,\n  \"fields\": [\n    {\n      \"column\": \"work_year\",\n      \"properties\": {\n        \"dtype\": \"number\",\n        \"std\": 0,\n        \"min\": 2023,\n        \"max\": 2024,\n        \"num_unique_values\": 2,\n        \"samples\": [\n          2023,\n          2024\n        ],\n        \"semantic_type\": \"\",\n        \"description\": \"\"\n      }\n    },\n    {\n      \"column\": \"experience_level\",\n      \"properties\": {\n        \"dtype\": \"category\",\n        \"num_unique_values\": 1,\n        \"samples\": [\n          \"MI\"\n        ],\n        \"semantic_type\": \"\",\n        \"description\": \"\"\n      }\n    },\n    {\n      \"column\": \"employment_type\",\n      \"properties\": {\n        \"dtype\": \"category\",\n        \"num_unique_values\": 1,\n        \"samples\": [\n          \"FT\"\n        ],\n        \"semantic_type\": \"\",\n        \"description\": \"\"\n      }\n    },\n    {\n      \"column\": \"job_title\",\n      \"properties\": {\n        \"dtype\": \"string\",\n        \"num_unique_values\": 7,\n        \"samples\": [\n          \"AI Architect\"\n        ],\n        \"semantic_type\": \"\",\n        \"description\": \"\"\n      }\n    },\n    {\n      \"column\": \"salary\",\n      \"properties\": {\n        \"dtype\": \"number\",\n        \"std\": 24966,\n        \"min\": 720000,\n        \"max\": 800000,\n        \"num_unique_values\": 3,\n        \"samples\": [\n          800000\n        ],\n        \"semantic_type\": \"\",\n        \"description\": \"\"\n      }\n    },\n    {\n      \"column\": \"salary_currency\",\n      \"properties\": {\n        \"dtype\": \"category\",\n        \"num_unique_values\": 1,\n        \"samples\": [\n          \"USD\"\n        ],\n        \"semantic_type\": \"\",\n        \"description\": \"\"\n      }\n    },\n    {\n      \"column\": \"salary_in_usd\",\n      \"properties\": {\n        \"dtype\": \"number\",\n        \"std\": 24966,\n        \"min\": 720000,\n        \"max\": 800000,\n        \"num_unique_values\": 3,\n        \"samples\": [\n          800000\n        ],\n        \"semantic_type\": \"\",\n        \"description\": \"\"\n      }\n    },\n    {\n      \"column\": \"employee_residence\",\n      \"properties\": {\n        \"dtype\": \"category\",\n        \"num_unique_values\": 2,\n        \"samples\": [\n          \"US\"\n        ],\n        \"semantic_type\": \"\",\n        \"description\": \"\"\n      }\n    },\n    {\n      \"column\": \"remote_ratio\",\n      \"properties\": {\n        \"dtype\": \"number\",\n        \"std\": 31,\n        \"min\": 0,\n        \"max\": 100,\n        \"num_unique_values\": 2,\n        \"samples\": [\n          0\n        ],\n        \"semantic_type\": \"\",\n        \"description\": \"\"\n      }\n    },\n    {\n      \"column\": \"company_location\",\n      \"properties\": {\n        \"dtype\": \"category\",\n        \"num_unique_values\": 2,\n        \"samples\": [\n          \"US\"\n        ],\n        \"semantic_type\": \"\",\n        \"description\": \"\"\n      }\n    },\n    {\n      \"column\": \"company_size\",\n      \"properties\": {\n        \"dtype\": \"category\",\n        \"num_unique_values\": 1,\n        \"samples\": [\n          \"M\"\n        ],\n        \"semantic_type\": \"\",\n        \"description\": \"\"\n      }\n    }\n  ]\n}"
            }
          },
          "metadata": {},
          "execution_count": 205
        }
      ]
    },
    {
      "cell_type": "markdown",
      "source": [
        "Continuamos con las demás gráficas de bigote.\n",
        "\n",
        "Ahora con la de Senior-level / Expert"
      ],
      "metadata": {
        "id": "btTSMPcN6Df_"
      }
    },
    {
      "cell_type": "code",
      "source": [
        "sns.boxplot(data=salaries_df[salaries_df['experience_level']=='SE']['salary_in_usd'], color='#ff8c00')"
      ],
      "metadata": {
        "colab": {
          "base_uri": "https://localhost:8080/",
          "height": 429
        },
        "id": "JZAFK61Z755O",
        "outputId": "a5791874-6934-4a4f-85b4-c3a7461e7095"
      },
      "execution_count": null,
      "outputs": [
        {
          "output_type": "execute_result",
          "data": {
            "text/plain": [
              "<Axes: ylabel='salary_in_usd'>"
            ]
          },
          "metadata": {},
          "execution_count": 206
        },
        {
          "output_type": "display_data",
          "data": {
            "text/plain": [
              "<Figure size 640x480 with 1 Axes>"
            ],
            "image/png": "[encoded data removed]"
          },
          "metadata": {}
        }
      ]
    },
    {
      "cell_type": "markdown",
      "source": [
        "El boxplot nos generea en donde se encuentran cada cuartil salarial para los Senior-level / Expert.\n",
        "\n",
        "Como podemos ver, la media salarial se encuentra ligeramente arriba de los 150,000 dólares, y el 25 % de personas con los mayores salarios en este nivel ganan entre 200,000 y 300,000 dólares."
      ],
      "metadata": {
        "id": "V0YDDFBV8y0j"
      }
    },
    {
      "cell_type": "markdown",
      "source": [
        "Entry-level / Junior"
      ],
      "metadata": {
        "id": "VYcSDJC19M1k"
      }
    },
    {
      "cell_type": "code",
      "source": [
        "sns.boxplot(data=salaries_df[salaries_df['experience_level']=='EN']['salary_in_usd'], color='#24e100')"
      ],
      "metadata": {
        "colab": {
          "base_uri": "https://localhost:8080/",
          "height": 429
        },
        "id": "UfYjoXat9MBy",
        "outputId": "acc2c7f8-df31-4407-d956-06664b7d90f8"
      },
      "execution_count": null,
      "outputs": [
        {
          "output_type": "execute_result",
          "data": {
            "text/plain": [
              "<Axes: ylabel='salary_in_usd'>"
            ]
          },
          "metadata": {},
          "execution_count": 207
        },
        {
          "output_type": "display_data",
          "data": {
            "text/plain": [
              "<Figure size 640x480 with 1 Axes>"
            ],
            "image/png": "[encoded data removed]"
          },
          "metadata": {}
        }
      ]
    },
    {
      "cell_type": "markdown",
      "source": [
        "Executive-level / Director"
      ],
      "metadata": {
        "id": "cSSBCG4fAksa"
      }
    },
    {
      "cell_type": "code",
      "source": [
        "sns.boxplot(data=salaries_df[salaries_df['experience_level']=='EX']['salary_in_usd'], color='red')"
      ],
      "metadata": {
        "colab": {
          "base_uri": "https://localhost:8080/",
          "height": 429
        },
        "id": "G_mZdVwiAj3d",
        "outputId": "7eba8af6-7b13-4725-9afe-4a89b21fe3c0"
      },
      "execution_count": null,
      "outputs": [
        {
          "output_type": "execute_result",
          "data": {
            "text/plain": [
              "<Axes: ylabel='salary_in_usd'>"
            ]
          },
          "metadata": {},
          "execution_count": 208
        },
        {
          "output_type": "display_data",
          "data": {
            "text/plain": [
              "<Figure size 640x480 with 1 Axes>"
            ],
            "image/png": "[encoded data removed]"
          },
          "metadata": {}
        }
      ]
    },
    {
      "cell_type": "markdown",
      "source": [
        "El boxplot nos generea en donde se encuentran cada cuartil salarial para los Executive-level / Director\n",
        "\n",
        "Este es el nivel con los mejores salarios, en donde la media se encuentra ligeramente debajo de los 200,000 dólares, y el 25 % de personas con los mayores salarios en este nivel ganan entre 250,000 y 400,000 dólares."
      ],
      "metadata": {
        "id": "m5m63gFU9iOB"
      }
    },
    {
      "cell_type": "markdown",
      "source": [
        "Ya creamos los boxplots individuales para cada nivel de experiencia, no obstante, una manera más útil de visualizarlos es tenerlos todos en una misma gráfica para poder compararlos más fácilmente, lo cual haremos a continuación."
      ],
      "metadata": {
        "id": "3CZyDcd8Ceho"
      }
    },
    {
      "cell_type": "code",
      "source": [
        "fig, axs = plt.subplots(2, 2, figsize=(12,8))\n",
        "\n",
        "sns.boxplot(data=salaries_df[salaries_df['experience_level'] == 'MI']['salary_in_usd'], ax=axs[0, 0])\n",
        "axs[0, 0].set_title('Mid-level / Intermediate')\n",
        "\n",
        "# Crear el segundo boxplot\n",
        "sns.boxplot(data=salaries_df[salaries_df['experience_level'] == 'SE']['salary_in_usd'], ax=axs[0, 1], color='#ff8c00')\n",
        "axs[0, 1].set_title('Senior-level / Expert')\n",
        "\n",
        "# Crear el tercer boxplot\n",
        "sns.boxplot(data=salaries_df[salaries_df['experience_level'] == 'EN']['salary_in_usd'], ax=axs[1, 0], color='#24e100')\n",
        "axs[1, 0].set_title('Entry-level / Junior')\n",
        "\n",
        "# Crear el cuarto boxplot\n",
        "sns.boxplot(data=salaries_df[salaries_df['experience_level'] == 'EX']['salary_in_usd'], ax=axs[1, 1], color='red')\n",
        "axs[1, 1].set_title('Executive-level / Director')\n",
        "\n",
        "\n",
        "plt.show()"
      ],
      "metadata": {
        "colab": {
          "base_uri": "https://localhost:8080/",
          "height": 680
        },
        "id": "A4elruyi9hUz",
        "outputId": "ea1b4773-8067-4c37-e90b-ae4934208d3e"
      },
      "execution_count": null,
      "outputs": [
        {
          "output_type": "display_data",
          "data": {
            "text/plain": [
              "<Figure size 1200x800 with 4 Axes>"
            ],
            "image/png": "[encoded data removed]"
          },
          "metadata": {}
        }
      ]
    },
    {
      "cell_type": "markdown",
      "source": [
        "Ahora nos enfocaremos en analizar los salarios por país, iterando sobre ellos con un ciclo for y guardándo su media en un diccionario"
      ],
      "metadata": {
        "id": "-nXxndFlIhs9"
      }
    },
    {
      "cell_type": "code",
      "source": [
        "# Inicialización del diccionario vacío\n",
        "countries_avg = []\n",
        "\n",
        "# Ciclo For para recorrer cada país único del arreglo\n",
        "for i in salaries_df['company_location'].unique():\n",
        "\n",
        "  # Asignación de la media de cada país al diccionario con las llaves de las siglas de cada país\n",
        "  countries_avg.append([i,int(salaries_df[salaries_df['company_location']==i]['salary_in_usd'].mean())])\n",
        "\n",
        "# Impresión de los top 10 países más\n",
        "print(countries_avg)"
      ],
      "metadata": {
        "colab": {
          "base_uri": "https://localhost:8080/"
        },
        "id": "RxJJgFamRFMR",
        "outputId": "c5b93bac-7906-4a20-e086-84821aa9a7b4"
      },
      "execution_count": null,
      "outputs": [
        {
          "output_type": "stream",
          "name": "stdout",
          "text": [
            "[['CA', 143732], ['US', 157844], ['GB', 91919], ['FR', 89148], ['DE', 102091], ['ES', 57393], ['SE', 96909], ['MX', 118447], ['IE', 99341], ['PL', 85281], ['IN', 42452], ['AU', 127800], ['NL', 75759], ['LT', 61942], ['DK', 60776], ['ZA', 53488], ['NZ', 146761], ['AR', 62444], ['KE', 50000], ['LV', 57059], ['IL', 189772], ['FI', 65370], ['AT', 65862], ['BR', 54794], ['CH', 124646], ['AE', 86000], ['SA', 139999], ['UA', 105600], ['EG', 140869], ['PH', 49046], ['TR', 23094], ['OM', 46848], ['PT', 50253], ['BA', 75000], ['IT', 49600], ['AS', 31684], ['EE', 45588], ['MT', 50423], ['HU', 39938], ['LB', 71750], ['RO', 44713], ['VN', 63000], ['NG', 60444], ['LU', 47609], ['GI', 79976], ['CO', 79115], ['SI', 56186], ['GR', 52260], ['MU', 100000], ['RU', 78207], ['KR', 47000], ['CZ', 69478], ['QA', 300000], ['GH', 27000], ['AD', 50745], ['EC', 16000], ['NO', 88462], ['JP', 110821], ['HK', 65058], ['CF', 49216], ['SG', 62783], ['TH', 22971], ['HR', 76726], ['AM', 50000], ['PK', 30000], ['IR', 100000], ['BS', 45555], ['PR', 167500], ['BE', 76864], ['ID', 34208], ['MY', 40000], ['HN', 20000], ['DZ', 100000], ['IQ', 100000], ['CN', 100000], ['CL', 40038], ['MD', 18000]]\n"
          ]
        }
      ]
    },
    {
      "cell_type": "markdown",
      "source": [
        "Ahora ya tenemos un arreglo de tuplas con el código del país y su salario medio. Para hacerlo más legible vamos a utilizar la librería \"country_converter\" que instalaremos mediante pip"
      ],
      "metadata": {
        "id": "uRm5TH6DYCn-"
      }
    },
    {
      "cell_type": "code",
      "source": [
        "# Ejecución de pip para instalar la librería \"country_converter\" e importación de la misma\n",
        "!pip install country_converter\n",
        "import country_converter as coco"
      ],
      "metadata": {
        "colab": {
          "base_uri": "https://localhost:8080/"
        },
        "id": "BWYJy3RxYCJC",
        "outputId": "8e93a84c-5b5f-41a4-c4ea-a5d21ae95e1b"
      },
      "execution_count": null,
      "outputs": [
        {
          "output_type": "stream",
          "name": "stdout",
          "text": [
            "Requirement already satisfied: country_converter in /usr/local/lib/python3.10/dist-packages (1.2)\n",
            "Requirement already satisfied: pandas>=1.0 in /usr/local/lib/python3.10/dist-packages (from country_converter) (2.0.3)\n",
            "Requirement already satisfied: python-dateutil>=2.8.2 in /usr/local/lib/python3.10/dist-packages (from pandas>=1.0->country_converter) (2.8.2)\n",
            "Requirement already satisfied: pytz>=2020.1 in /usr/local/lib/python3.10/dist-packages (from pandas>=1.0->country_converter) (2023.4)\n",
            "Requirement already satisfied: tzdata>=2022.1 in /usr/local/lib/python3.10/dist-packages (from pandas>=1.0->country_converter) (2024.1)\n",
            "Requirement already satisfied: numpy>=1.21.0 in /usr/local/lib/python3.10/dist-packages (from pandas>=1.0->country_converter) (1.25.2)\n",
            "Requirement already satisfied: six>=1.5 in /usr/local/lib/python3.10/dist-packages (from python-dateutil>=2.8.2->pandas>=1.0->country_converter) (1.16.0)\n"
          ]
        }
      ]
    },
    {
      "cell_type": "code",
      "source": [
        "# Ciclo For para recorrer las siglas de cada país de countries_avg\n",
        "for i in range(len(countries_avg)):\n",
        "\n",
        "  # Reasignación del nombre completo a las siglas de cada país\n",
        "  countries_avg[i][0] = coco.convert(names = countries_avg[i][0], to = 'name_short')\n",
        "\n",
        "# Impresión del Dataframe resultante\n",
        "print(countries_avg)"
      ],
      "metadata": {
        "colab": {
          "base_uri": "https://localhost:8080/"
        },
        "id": "TVhpbfDFawLD",
        "outputId": "fcecef2b-d2bc-4815-e762-1f240c1c6539"
      },
      "execution_count": null,
      "outputs": [
        {
          "output_type": "stream",
          "name": "stdout",
          "text": [
            "[['Canada', 143732], ['United States', 157844], ['United Kingdom', 91919], ['France', 89148], ['Germany', 102091], ['Spain', 57393], ['Sweden', 96909], ['Mexico', 118447], ['Ireland', 99341], ['Poland', 85281], ['India', 42452], ['Australia', 127800], ['Netherlands', 75759], ['Lithuania', 61942], ['Denmark', 60776], ['South Africa', 53488], ['New Zealand', 146761], ['Argentina', 62444], ['Kenya', 50000], ['Latvia', 57059], ['Israel', 189772], ['Finland', 65370], ['Austria', 65862], ['Brazil', 54794], ['Switzerland', 124646], ['United Arab Emirates', 86000], ['Saudi Arabia', 139999], ['Ukraine', 105600], ['Egypt', 140869], ['Philippines', 49046], ['Türkiye', 23094], ['Oman', 46848], ['Portugal', 50253], ['Bosnia and Herzegovina', 75000], ['Italy', 49600], ['American Samoa', 31684], ['Estonia', 45588], ['Malta', 50423], ['Hungary', 39938], ['Lebanon', 71750], ['Romania', 44713], ['Vietnam', 63000], ['Nigeria', 60444], ['Luxembourg', 47609], ['Gibraltar', 79976], ['Colombia', 79115], ['Slovenia', 56186], ['Greece', 52260], ['Mauritius', 100000], ['Russia', 78207], ['South Korea', 47000], ['Czechia', 69478], ['Qatar', 300000], ['Ghana', 27000], ['Andorra', 50745], ['Ecuador', 16000], ['Norway', 88462], ['Japan', 110821], ['Hong Kong', 65058], ['Central African Republic', 49216], ['Singapore', 62783], ['Thailand', 22971], ['Croatia', 76726], ['Armenia', 50000], ['Pakistan', 30000], ['Iran', 100000], ['Bahamas', 45555], ['Puerto Rico', 167500], ['Belgium', 76864], ['Indonesia', 34208], ['Malaysia', 40000], ['Honduras', 20000], ['Algeria', 100000], ['Iraq', 100000], ['China', 100000], ['Chile', 40038], ['Moldova', 18000]]\n"
          ]
        }
      ]
    },
    {
      "cell_type": "markdown",
      "source": [
        "Como podemos ver, ya tenemos almacenada la información de la media salarial de cada país.\n",
        "\n",
        "Ahora crearemos una función que nos permita saber la la media salarial de un país ingresado por el usuario mediante un diccionario"
      ],
      "metadata": {
        "id": "6CLhIyf6cqyh"
      }
    },
    {
      "cell_type": "code",
      "source": [
        "# Variable Country que guarda el nombre del país del que el usuario desea conocer la media salarial\n",
        "country = input(\"¿De qué país desea conocer su salario? (en inglés): \")\n",
        "\n",
        "# Creación de un diccionario a través de una lista anidada (lista de tuplas)\n",
        "countries_avg_dict = dict(countries_avg)\n",
        "\n",
        "# Impresión del mensaje\n",
        "print(\"El salrio medio en\", country, \"es de\", countries_avg_dict[country], \"dólares\")"
      ],
      "metadata": {
        "colab": {
          "base_uri": "https://localhost:8080/"
        },
        "id": "fqrJnRdZcqUn",
        "outputId": "1bb8e156-9403-4696-db02-2bc5d6b4d4f1"
      },
      "execution_count": null,
      "outputs": [
        {
          "output_type": "stream",
          "name": "stdout",
          "text": [
            "¿De qué país desea conocer su salario? (en inglés): France\n",
            "El salrio medio en France es de 89148 dólares\n"
          ]
        }
      ]
    },
    {
      "cell_type": "markdown",
      "source": [
        "A continuación realizaremos una comparación de los salarios según la flexibilidad laboral, si es un trabajo que se puede hacer de manera remota o no"
      ],
      "metadata": {
        "id": "06HmHnn1gODB"
      }
    },
    {
      "cell_type": "code",
      "source": [
        "sns.displot(data=salaries_df, x='salary_in_usd', hue='remote_ratio', palette='bright', kde=True)"
      ],
      "metadata": {
        "colab": {
          "base_uri": "https://localhost:8080/",
          "height": 524
        },
        "id": "QGiBDbWHgnZX",
        "outputId": "a9e08b55-b9b8-43d0-f8c8-2b603d99e3fd"
      },
      "execution_count": null,
      "outputs": [
        {
          "output_type": "execute_result",
          "data": {
            "text/plain": [
              "<seaborn.axisgrid.FacetGrid at 0x7d3816fdd8a0>"
            ]
          },
          "metadata": {},
          "execution_count": 214
        },
        {
          "output_type": "display_data",
          "data": {
            "text/plain": [
              "<Figure size 600.361x500 with 1 Axes>"
            ],
            "image/png": "[encoded data removed]"
          },
          "metadata": {}
        }
      ]
    },
    {
      "cell_type": "markdown",
      "source": [
        "Es interesante ver como la gráfica nos indica que prácticamente no hay diferencia en los salarios entre los que trabajan completamente presencial o los que trabajan completamente remotos, pero que los que están en una modalidad híbrida suelen ganar un poco menos"
      ],
      "metadata": {
        "id": "Uy0cQ5qIhqVk"
      }
    },
    {
      "cell_type": "markdown",
      "source": [
        "Ahora haremos una comparación similar pero de los salarios de las compañías pequeñas, medianas y grandes"
      ],
      "metadata": {
        "id": "pAfoZyf4itUy"
      }
    },
    {
      "cell_type": "code",
      "source": [
        "sns.displot(data=salaries_df, x='salary_in_usd', hue='company_size', palette='bright', kind='kde')"
      ],
      "metadata": {
        "colab": {
          "base_uri": "https://localhost:8080/",
          "height": 524
        },
        "id": "2Y3M5rWKi2BB",
        "outputId": "f5d526f9-1be5-45ed-beab-5457a818ea2e"
      },
      "execution_count": null,
      "outputs": [
        {
          "output_type": "execute_result",
          "data": {
            "text/plain": [
              "<seaborn.axisgrid.FacetGrid at 0x7d381eaa4580>"
            ]
          },
          "metadata": {},
          "execution_count": 215
        },
        {
          "output_type": "display_data",
          "data": {
            "text/plain": [
              "<Figure size 609.111x500 with 1 Axes>"
            ],
            "image/png": "[encoded data removed]"
          },
          "metadata": {}
        }
      ]
    },
    {
      "cell_type": "markdown",
      "source": [
        "No hay una comparativa que resalte a la vista para los salarios según el tamaño de la compañía en que se labora. Quizás que la línea de las compañías grandes tiene una menor curtosis, que podría ser que tienen una mayor diversidad de posiciones y mejor distribución salarial.\n",
        "\n",
        "Lo que si nos podemos dar cuenta es que las compañias pequeñas son pocas y suelen tener los peores salarios 🥹"
      ],
      "metadata": {
        "id": "rE6MRbnEjOpz"
      }
    },
    {
      "cell_type": "markdown",
      "source": [
        "## **Gracias por utilizar este Notebook, espero que haya sido de su agrado 😃**\n",
        "\n",
        "\n",
        "\n",
        "---\n",
        "\n",
        "\n",
        "## **Diego Alejandro Gutiérrez Rios**\n",
        "**diego.gutierrez10@uabc.edu.mx**\n",
        "\n",
        "TODOS LOS DERECHOS RESEVADOS ©"
      ],
      "metadata": {
        "id": "B_m4fFyWj6UW"
      }
    }
  ]
}